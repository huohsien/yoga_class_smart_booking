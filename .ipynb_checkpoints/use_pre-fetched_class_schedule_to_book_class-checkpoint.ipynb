{
 "cells": [
  {
   "cell_type": "code",
   "execution_count": 1,
   "metadata": {},
   "outputs": [],
   "source": [
    "from lxml import html\n",
    "\n",
    "# from bs4 import BeautifulSoup\n",
    "from bs4 import BeautifulSoup, NavigableString\n",
    "import time\n",
    "import datetime\n",
    "import threading\n",
    "from apscheduler.schedulers.background import BackgroundScheduler\n",
    "\n",
    "from selenium import webdriver\n",
    "from webdriver_manager.chrome import ChromeDriverManager\n",
    "\n",
    "from selenium.webdriver.common.by import By\n",
    "from selenium.webdriver.common.keys import Keys\n",
    "\n",
    "from selenium.webdriver.chrome.options import Options\n",
    "\n",
    "from selenium.webdriver.common.action_chains import ActionChains\n",
    "from selenium.webdriver.support.ui import WebDriverWait\n",
    "from selenium.webdriver.support import expected_conditions as ec\n",
    "\n",
    "import json\n",
    "import os\n",
    "import sys\n",
    "\n",
    "import helper"
   ]
  },
  {
   "cell_type": "code",
   "execution_count": 2,
   "metadata": {},
   "outputs": [],
   "source": [
    "course_schedule = []\n",
    "NO_WINDOW = False\n",
    "IMPLICIT_WAIT_TIME = 20\n",
    "EXPLICIT_WAIT_TIME = 20\n",
    "WINDOW_WIDTH = 640\n",
    "WINDOW_HEIGHT = 920"
   ]
  },
  {
   "cell_type": "code",
   "execution_count": 3,
   "metadata": {},
   "outputs": [],
   "source": [
    "def create_new_driver():\n",
    "    #setup option for chrome profile\n",
    "    # chrome_options = Options()\n",
    "    # chrome_options.add_argument(\"user-data-dir=/Users/huohsien/Library/Application Support/Google/Chrome/Default/\")\n",
    "    options = Options()\n",
    "    \n",
    "    if NO_WINDOW:\n",
    "        options = Options()\n",
    "        options.add_argument('--headless')\n",
    "        options.add_argument('--no-sandbox')\n",
    "        options.add_argument('--disable-gpu')\n",
    "\n",
    "    #start web driver\n",
    "    driver = webdriver.Chrome(ChromeDriverManager().install(), options=options)\n",
    "    driver.implicitly_wait(IMPLICIT_WAIT_TIME)\n",
    "\n",
    "    wait = WebDriverWait(driver, EXPLICIT_WAIT_TIME)\n",
    "    return driver, wait"
   ]
  },
  {
   "cell_type": "code",
   "execution_count": 4,
   "metadata": {},
   "outputs": [],
   "source": [
    "def send_keys(elm, string):\n",
    "    for c in string:\n",
    "        elm.send_keys(c)"
   ]
  },
  {
   "cell_type": "code",
   "execution_count": 5,
   "metadata": {},
   "outputs": [],
   "source": [
    "def sign_in(driver, wait):\n",
    "    \n",
    "    \n",
    "    username = driver.find_element_by_id('ctl00_cphContents_txtUsername')\n",
    "    password = driver.find_element_by_id('ctl00_cphContents_txtPassword')\n",
    "    username.send_keys(\"DN20092360\")\n",
    "    password.send_keys(\"jj1216\")\n",
    "#     send_keys(username, \"DN20092360\")\n",
    "#     send_keys(password, \"jj1216\")\n",
    "\n",
    "    wait.until(ec.visibility_of_element_located((By.CLASS_NAME, \"submit-button\")))\n",
    "    \n",
    "    sign_in_btn = driver.find_element_by_class_name(\"submit-button\") \n",
    "    sign_in_btn.click()      \n",
    "        \n",
    "\n",
    "def log_out(driver, wait):\n",
    "    click_btn = helper.sync_get_element_by_xpath(driver, \"//a[contains(text(), 'Logout')]\")\n",
    "#     print(\"click_btn: \", click_btn)\n",
    "    if click_btn:\n",
    "        click_btn.click()\n",
    "    \n",
    "def click_book_for_class(driver, wait):\n",
    "    click_btn = helper.sync_get_element_by_xpath(driver, \"//a[contains(text(), 'Book for Class')]\")\n",
    "#     print(\"click_btn: \", click_btn)\n",
    "    if click_btn:\n",
    "        click_btn.click()\n",
    "\n",
    "def click_book_this_class_now(driver, wait):\n",
    "    click_btn = helper.sync_get_element_by_xpath(driver, \"//a[contains(text(), 'BOOK THIS CLASS NOW')]\")\n",
    "    click_btn.click()"
   ]
  },
  {
   "cell_type": "code",
   "execution_count": 6,
   "metadata": {},
   "outputs": [],
   "source": [
    "#launch url\n",
    "base_url = \"https://www.trueclassbooking.com.tw/member/search-class.aspx\""
   ]
  },
  {
   "cell_type": "code",
   "execution_count": 7,
   "metadata": {},
   "outputs": [],
   "source": [
    "with open(r'./class_schedules/12 October - 18 October 2020.json', \"r\") as read_file:\n",
    "    course_schedule = json.load(read_file)"
   ]
  },
  {
   "cell_type": "code",
   "execution_count": 8,
   "metadata": {},
   "outputs": [],
   "source": [
    "# course_schedule"
   ]
  },
  {
   "cell_type": "code",
   "execution_count": 9,
   "metadata": {},
   "outputs": [
    {
     "name": "stdout",
     "output_type": "stream",
     "text": [
      "Now: 2020-10-10 10:03:53.335537\n",
      "Date: 12 Oct Mon\n",
      "-----------------------\n",
      "\n",
      "Name: Mysore\n",
      "Teacher: Simon Chang\n",
      "Time: 06:30 - 09:00 AM\n",
      "\n",
      "\n"
     ]
    }
   ],
   "source": [
    "NUM_CLASSES = 1\n",
    "DELAY_BETWEEN_CLASSSES = 3\n",
    "BASE_DELAY = 4\n",
    "TEST_SIGNIN_SECONDS_DELAY_FROM_NOW = BASE_DELAY\n",
    "TEST_BOOK_CLASSES_SECONDS_DELAY_FROM_NOW =  (NUM_CLASSES-1) * DELAY_BETWEEN_CLASSSES + BASE_DELAY*2\n",
    "\n",
    "signin_datetime = datetime.datetime.now() + datetime.timedelta(seconds=TEST_SIGNIN_SECONDS_DELAY_FROM_NOW)\n",
    "book_datetime = datetime.datetime.now() + datetime.timedelta(seconds=TEST_BOOK_CLASSES_SECONDS_DELAY_FROM_NOW)\n",
    "\n",
    "print(\"Now: {}\".format(datetime.datetime.now()))\n",
    "courses_to_be_booked = []\n",
    "\n",
    "c = helper.search_courses_by_date('12', course_schedule)\n",
    "c = helper.search_courses_by_name('Mysore', c)\n",
    "c = helper.search_courses_by_time('AM', c)\n",
    "\n",
    "courses_to_be_booked.extend(c)\n",
    "\n",
    "helper.list_courses_to_be_booked(courses_to_be_booked)"
   ]
  },
  {
   "cell_type": "code",
   "execution_count": 10,
   "metadata": {},
   "outputs": [],
   "source": [
    "# YEAR = 2020\n",
    "# MONTH = 10\n",
    "# Day = 10\n",
    "\n",
    "# book_datetime = datetime.datetime(YEAR, MONTH, Day, 22, 0, 0)\n",
    "\n",
    "# temp = []\n",
    "\n",
    "# c = helper.search_courses_by_date('14', course_schedule)\n",
    "# c = helper.search_courses_by_name('Basic', c)\n",
    "# c = helper.search_courses_by_teacher('Yvette', c)\n",
    "# # c = helper.search_courses_by_time('PM', c)\n",
    "\n",
    "# temp.extend(c)\n",
    "\n",
    "# c = helper.search_courses_by_date('14', course_schedule)\n",
    "# # c = helper.search_courses_by_name('', c)\n",
    "# c = helper.search_courses_by_teacher('吳', c)\n",
    "# c = helper.search_courses_by_time('PM', c)\n",
    "\n",
    "# temp.extend(c)\n",
    "\n",
    "# # c = helper.search_courses_by_date('13', course_schedule)\n",
    "# # c = helper.search_courses_by_name('Warm', c)\n",
    "# # c = helper.search_courses_by_teacher('Una', c)\n",
    "# # c = helper.search_courses_by_time('PM', c)\n",
    "\n",
    "# # temp.extend(c)\n",
    "\n",
    "# # c = helper.search_courses_by_date('13', course_schedule)\n",
    "# # c = helper.search_courses_by_name('Hatha', c)\n",
    "# # c = helper.search_courses_by_teacher('Tumai', c)\n",
    "# # c = helper.search_courses_by_time('PM', c)\n",
    "\n",
    "# # temp.extend(c)\n",
    "\n",
    "# # c = helper.search_courses_by_date('12', course_schedule)\n",
    "# # # c = helper.search_courses_by_name('Tone', c)\n",
    "# # c = helper.search_courses_by_teacher('Una', c)\n",
    "# # # c = helper.search_courses_by_time('PM', c)\n",
    "# # temp.extend(c)\n",
    "\n",
    "# # c = helper.search_courses_by_date('12', course_schedule)\n",
    "# # c = helper.search_courses_by_name('Wheel', c)\n",
    "# # c = helper.search_courses_by_teacher('Una', c)\n",
    "# # # c = helper.search_courses_by_time('PM', c)\n",
    "\n",
    "# # temp.extend(c)\n",
    "\n",
    "# # c = helper.search_courses_by_date('11', course_schedule)\n",
    "# # # c = helper.search_courses_by_name('Aerial', c)\n",
    "# # c = helper.search_courses_by_teacher('YaYa', c)\n",
    "# # c = helper.search_courses_by_time('PM', c)\n",
    "\n",
    "# # temp.extend(c)\n",
    "\n",
    "\n",
    "\n",
    "# # c = helper.search_courses_by_date('12', course_schedule)\n",
    "# # c = helper.search_courses_by_name('壁', c)\n",
    "# # c = helper.search_courses_by_teacher('Yvette', c)\n",
    "# # # c = helper.search_courses_by_time('PM', c)\n",
    "\n",
    "# # temp.extend(c)\n",
    "\n",
    "# courses_to_be_booked = temp\n",
    "\n",
    "# # courses_to_be_booked = []\n",
    "# # courses_to_be_booked.append(temp[3])\n",
    "# # courses_to_be_booked.append(temp[0])\n",
    "# # courses_to_be_booked.append(temp[1])   \n",
    "# # courses_to_be_booked.append(temp[2])\n",
    "\n",
    "# helper.list_courses_to_be_booked(courses_to_be_booked)\n",
    "\n",
    "# # Set Sign In time 10 minutes before the open for booking time\n",
    "# signin_datetime = book_datetime - datetime.timedelta(seconds=240)"
   ]
  },
  {
   "cell_type": "code",
   "execution_count": 11,
   "metadata": {},
   "outputs": [],
   "source": [
    "book_datetime = book_datetime + datetime.timedelta(seconds=0.5)"
   ]
  },
  {
   "cell_type": "code",
   "execution_count": 12,
   "metadata": {},
   "outputs": [],
   "source": [
    "def scheduled_sign_in(driver, wait):\n",
    "#     print(\"scheduled_sign_in({},{})\".format(driver, wait))\n",
    "    driver.get(base_url)\n",
    "    sign_in(driver, wait)\n",
    "\n",
    "begin_datetime_go_to_class_page = []\n",
    "end_datetime_go_to_class_page = []\n",
    "begin_datetime_click_BOOK_THIS_CLASS_NOW = []\n",
    "end_datetime_click_BOOK_THIS_CLASS_NOW = []\n",
    "scheduled_class_name = []\n",
    "\n",
    "def reserve_class(driver, wait, course_to_be_booked):\n",
    "    print(\"reserve_class: ({})\\n\".format(course_to_be_booked['time']))\n",
    "    book_url = course_to_be_booked['href']\n",
    "    class_name = course_to_be_booked['name']\n",
    "    \n",
    "    scheduled_class_name.append(class_name)\n",
    "    begin_datetime_go_to_class_page.append(datetime.datetime.now())\n",
    "    driver.get(book_url)\n",
    "    end_datetime_go_to_class_page.append(datetime.datetime.now())\n",
    "\n",
    "\n",
    "    begin_datetime_click_BOOK_THIS_CLASS_NOW(datetime.datetime.now()\n",
    "    click_book_this_class_now(driver, wait)\n",
    "    print(\"\\t**End: Click 'BOOK THIS CLASS NOW' button at: {} -- {}\\n\".format(datetime.datetime.now(), class_name))"
   ]
  },
  {
   "cell_type": "code",
   "execution_count": 13,
   "metadata": {},
   "outputs": [
    {
     "name": "stderr",
     "output_type": "stream",
     "text": [
      "[WDM] - Current google-chrome version is 85.0.4183\n",
      "[WDM] - Get LATEST driver version for 85.0.4183\n",
      "[WDM] - Driver [/Users/huohsien/.wdm/drivers/chromedriver/mac64/85.0.4183.87/chromedriver] found in cache\n"
     ]
    },
    {
     "name": "stdout",
     "output_type": "stream",
     "text": [
      " \n",
      "idx:  0 scheduled signin datetime:  2020-10-10 10:03:58.335479\n",
      "idx:  0 scheduled book datetime:  2020-10-10 10:04:01.835513\n"
     ]
    }
   ],
   "source": [
    "drivers = []\n",
    "waits = []\n",
    "scheduler = BackgroundScheduler()\n",
    "start = time.time()\n",
    "for idx, course_to_be_booked in enumerate(courses_to_be_booked):\n",
    "\n",
    "    driver, wait = create_new_driver()\n",
    "    driver.set_window_position(WINDOW_WIDTH * idx, 0);\n",
    "    driver.set_window_size(WINDOW_WIDTH, WINDOW_HEIGHT)\n",
    "    signin_datetime_var = signin_datetime + datetime.timedelta(seconds=(idx+1)*1)\n",
    "    print(\"idx: \", idx, \"scheduled signin datetime: \", signin_datetime_var)\n",
    "    print(\"idx: \", idx, \"scheduled book datetime: \", book_datetime)\n",
    "    \n",
    "    scheduler.add_job(scheduled_sign_in, 'date', run_date=signin_datetime_var, args=[driver, wait])\n",
    "    scheduler.add_job(reserve_class, 'date', run_date= book_datetime, args=[driver, wait, course_to_be_booked])\n",
    "# print(\"Time Elapsed: {:.2f}\".format(time.time() - start)) \n",
    "scheduler.start()\n",
    " \n"
   ]
  },
  {
   "cell_type": "code",
   "execution_count": null,
   "metadata": {},
   "outputs": [],
   "source": [
    "    print(\"\\t** Begin: Go to the class page at: {} -- {}\\n\".format(, class_name))\n",
    "\n",
    "    print(\"\\t** End: Go to the class page at: {} -- {}\\n\".format(datetime.datetime.now(), class_name))\n",
    "\n",
    "    print(\"\\t**Begin: Click 'BOOK THIS CLASS NOW' button at: {} -- {}\\n\".format(datetime.datetime.now(), class_name))\n",
    "\n"
   ]
  },
  {
   "cell_type": "code",
   "execution_count": 14,
   "metadata": {},
   "outputs": [
    {
     "name": "stdout",
     "output_type": "stream",
     "text": [
      "https://www.trueclassbooking.com.tw/member/login.aspx\n",
      "\n",
      "Class: Mysore \n",
      "\turl: https://www.trueclassbooking.com.tw/member/popup/class-info.aspx?tcl_id=744161\n",
      "\n",
      "reserve_class: (06:30 - 09:00 AM)\n",
      "\n",
      "\t** Begin: Go to the class page at: 2020-10-10 10:04:01.837295 -- Mysore\n",
      "\n",
      "\t** End: Go to the class page at: 2020-10-10 10:04:02.050395 -- Mysore\n",
      "\n",
      "\t**Begin: Click 'BOOK THIS CLASS NOW' button at: 2020-10-10 10:04:02.050494 -- Mysore\n",
      "\n",
      "\t**End: Click 'BOOK THIS CLASS NOW' button at: 2020-10-10 10:04:02.797482 -- Mysore\n",
      "\n"
     ]
    }
   ],
   "source": [
    "print(\"https://www.trueclassbooking.com.tw/member/login.aspx\\n\")\n",
    "for idx, course_to_be_booked in enumerate(courses_to_be_booked):\n",
    "    print(\"Class: {} \\n\\turl: {}\\n\".format(course_to_be_booked['name'], course_to_be_booked['href']))"
   ]
  }
 ],
 "metadata": {
  "kernelspec": {
   "display_name": "Python 3",
   "language": "python",
   "name": "python3"
  },
  "language_info": {
   "codemirror_mode": {
    "name": "ipython",
    "version": 3
   },
   "file_extension": ".py",
   "mimetype": "text/x-python",
   "name": "python",
   "nbconvert_exporter": "python",
   "pygments_lexer": "ipython3",
   "version": "3.7.1"
  }
 },
 "nbformat": 4,
 "nbformat_minor": 4
}
