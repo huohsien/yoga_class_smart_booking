{
 "cells": [
  {
   "cell_type": "code",
   "execution_count": 1,
   "metadata": {},
   "outputs": [],
   "source": [
    "from lxml import html\n",
    "\n",
    "from bs4 import BeautifulSoup\n",
    "import time\n",
    "from datetime import datetime\n",
    "import threading\n",
    "from apscheduler.schedulers.background import BackgroundScheduler\n",
    "\n",
    "from selenium import webdriver\n",
    "from webdriver_manager.chrome import ChromeDriverManager\n",
    "\n",
    "from selenium.webdriver.common.by import By\n",
    "from selenium.webdriver.common.keys import Keys\n",
    "\n",
    "from selenium.webdriver.chrome.options import Options\n",
    "\n",
    "from selenium.webdriver.common.action_chains import ActionChains\n",
    "from selenium.webdriver.support.ui import WebDriverWait\n",
    "from selenium.webdriver.support import expected_conditions as ec\n",
    "\n",
    "import json\n",
    "import os\n",
    "import sys"
   ]
  },
  {
   "cell_type": "code",
   "execution_count": 2,
   "metadata": {},
   "outputs": [],
   "source": [
    "course_schedule = []"
   ]
  },
  {
   "cell_type": "code",
   "execution_count": 3,
   "metadata": {},
   "outputs": [],
   "source": [
    "def sync_get_element_by_xpath(xpath):\n",
    "    wait.until(ec.visibility_of_element_located((By.XPATH, xpath)))\n",
    "    return driver.find_element_by_xpath(xpath)"
   ]
  },
  {
   "cell_type": "code",
   "execution_count": 17,
   "metadata": {},
   "outputs": [],
   "source": [
    "def teacher_norm(teacher):\n",
    "    if not teacher.startswith('-'):\n",
    "        return teacher\n",
    "    tmp = teacher.split('\\n')[0].split('- ')[1]\n",
    "    return tmp[:-2]\n",
    "\n",
    "def search_courses_by_date(date_str, courses):\n",
    "    results = []\n",
    "    \n",
    "    date_str = date_str.strip()\n",
    "    \n",
    "    for item in courses:\n",
    "        if date_str in item['date']:\n",
    "            results.append(item)\n",
    "    return results\n",
    "\n",
    "def search_courses_by_teacher(teacher_str, courses=course_schedule):\n",
    "    results = []\n",
    "    \n",
    "    teacher_str = teacher_str.strip()\n",
    "    \n",
    "    for item in courses:\n",
    "        if teacher_str in item['teacher']:\n",
    "            results.append(item)\n",
    "    return results\n",
    "def search_courses_by_name(name_str, courses=course_schedule):\n",
    "    results = []\n",
    "    \n",
    "    name_str = name_str.strip()\n",
    "    \n",
    "    for item in courses:\n",
    "        if name_str in item['name']:\n",
    "            results.append(item)\n",
    "    return results\n",
    "\n",
    "def search_courses_by_time(time_str, courses=course_schedule):\n",
    "    results = []\n",
    "    \n",
    "    time_str = time_str.strip()\n",
    "    \n",
    "    for item in courses:\n",
    "        if time_str in item['time']:\n",
    "            results.append(item)\n",
    "    return results\n",
    "\n",
    "def click_book_this_class_now():\n",
    "    btn = driver.find_element_by_xpath(\"//a[contains(text(), 'BOOK THIS CLASS NOW')]\")\n",
    "    btn_click()\n",
    "def list_courses_to_be_booked(courses_to_be_booked):\n",
    "    if len(courses_to_be_booked) <= 0:\n",
    "        return\n",
    "    print(\"Date: {}\".format(courses_to_be_booked[0]['date']))\n",
    "    print(\"-----------------------\\n\")\n",
    "    for course in courses_to_be_booked:\n",
    "        print(\"Name: {}\".format(course['name']))\n",
    "        print(\"Teacher: {}\".format(course['teacher']))\n",
    "        print(\"Time: {}\".format(course['time']))\n",
    "        print(\"\\n\")\n",
    "    print(\"-----------------------\")"
   ]
  },
  {
   "cell_type": "code",
   "execution_count": 5,
   "metadata": {},
   "outputs": [
    {
     "name": "stderr",
     "output_type": "stream",
     "text": [
      "[WDM] - Current google-chrome version is 85.0.4183\n",
      "[WDM] - Get LATEST driver version for 85.0.4183\n",
      "[WDM] - Driver [/Users/huohsien/.wdm/drivers/chromedriver/mac64/85.0.4183.87/chromedriver] found in cache\n"
     ]
    },
    {
     "name": "stdout",
     "output_type": "stream",
     "text": [
      " \n"
     ]
    }
   ],
   "source": [
    "#setup option for chrome profile\n",
    "chrome_options = Options()\n",
    "# chrome_options.add_argument(\"user-data-dir=/Users/huohsien/Library/Application Support/Google/Chrome/Default/\")\n",
    "\n",
    "#start web driver\n",
    "driver = webdriver.Chrome(ChromeDriverManager().install(), options=chrome_options)\n",
    "driver.implicitly_wait(60)\n",
    "\n",
    "wait = WebDriverWait(driver, 30)"
   ]
  },
  {
   "cell_type": "code",
   "execution_count": 6,
   "metadata": {},
   "outputs": [],
   "source": [
    "def sign_in():\n",
    "    username = driver.find_element_by_id('ctl00_cphContents_txtUsername')\n",
    "    password = driver.find_element_by_id('ctl00_cphContents_txtPassword')\n",
    "    username.send_keys(\"DN20092360\")\n",
    "    password.send_keys(\"jj1216\")\n",
    "\n",
    "    wait.until(ec.visibility_of_element_located((By.CLASS_NAME, \"submit-button\")))\n",
    "    sign_in_btn = driver.find_element_by_class_name(\"submit-button\") \n",
    "    sign_in_btn.click()\n",
    "\n",
    "def click_book_for_class():\n",
    "    click_btn = sync_get_element_by_xpath(\"//a[contains(text(), 'Book for Class')]\")\n",
    "#     print(\"click_btn: \", click_btn)\n",
    "    click_btn.click()"
   ]
  },
  {
   "cell_type": "code",
   "execution_count": 7,
   "metadata": {},
   "outputs": [],
   "source": [
    "#launch url\n",
    "base_url = \"https://www.trueclassbooking.com.tw/member/search-class.aspx\""
   ]
  },
  {
   "cell_type": "code",
   "execution_count": 8,
   "metadata": {},
   "outputs": [],
   "source": [
    "driver.get(base_url)\n",
    "sign_in()\n",
    "click_book_for_class()"
   ]
  },
  {
   "cell_type": "code",
   "execution_count": 9,
   "metadata": {},
   "outputs": [],
   "source": [
    "with open(r\"07 September - 13 September 2020.json\", \"r\") as read_file:\n",
    "    course_schedule = json.load(read_file)"
   ]
  },
  {
   "cell_type": "code",
   "execution_count": 10,
   "metadata": {},
   "outputs": [],
   "source": [
    "course_schedule"
   ]
  },
  {
   "cell_type": "code",
   "execution_count": 11,
   "metadata": {},
   "outputs": [],
   "source": [
    "book_datetime = datetime(2020, 9, 8, 22, 0, 0)\n",
    "courses_to_be_booked = []\n",
    "c = search_courses_by_date('Sat', course_schedule)\n",
    "c = search_courses_by_name('Iyengar', c)\n",
    "c = search_courses_by_teacher('Ani', c)\n",
    "courses_to_be_booked.extend(c)\n",
    "\n",
    "c = search_courses_by_date('Sat', course_schedule)\n",
    "c = search_courses_by_teacher('CoCo', c)\n",
    "courses_to_be_booked.extend(c)\n",
    "\n",
    "list_courses_to_be_booked(courses_to_be_booked)"
   ]
  },
  {
   "cell_type": "code",
   "execution_count": 18,
   "metadata": {},
   "outputs": [
    {
     "name": "stdout",
     "output_type": "stream",
     "text": [
      "Date: 11 Sep Fri\n",
      "-----------------------\n",
      "\n",
      "Name: Hatha Yoga 哈達瑜珈\n",
      "Teacher: Priya\n",
      "Time: 06:15 - 07:15 PM\n",
      "\n",
      "\n",
      "Name: Hatha Yoga 哈達瑜珈 1\n",
      "Teacher: Yvette\n",
      "Time: 07:15 - 08:15 AM\n",
      "\n",
      "\n",
      "Name: Gentle Yoga 和緩瑜珈\n",
      "Teacher: Ellen\n",
      "Time: 04:30 - 05:30 PM\n",
      "\n",
      "\n",
      "Name: Hot Hatha 熱哈達\n",
      "Teacher: Ellen\n",
      "Time: 03:00 - 04:00 PM\n",
      "\n",
      "\n",
      "-----------------------\n"
     ]
    }
   ],
   "source": [
    "# book_datetime = datetime(2020, 9, 8, 4, 34, 0)\n",
    "# courses_to_be_booked = []\n",
    "# c = search_courses_by_date('Fri', course_schedule)\n",
    "# c = search_courses_by_name('哈', c)\n",
    "# c = search_courses_by_teacher('Priya', c)\n",
    "# courses_to_be_booked.extend(c)\n",
    "\n",
    "# c = search_courses_by_date('Fri', course_schedule)\n",
    "# c = search_courses_by_name('哈', c)\n",
    "# c = search_courses_by_teacher('Yvette', c)\n",
    "# courses_to_be_booked.extend(c)\n",
    "\n",
    "# c = search_courses_by_date('Fri', course_schedule)\n",
    "# c = search_courses_by_name('Gentle', c)\n",
    "# c = search_courses_by_teacher('Ellen', c)\n",
    "# courses_to_be_booked.extend(c)\n",
    "\n",
    "# c = search_courses_by_date('Fri', course_schedule)\n",
    "# c = search_courses_by_name('Hot', c)\n",
    "# c = search_courses_by_teacher('Ellen', c)\n",
    "# courses_to_be_booked.extend(c)\n",
    "\n",
    "# list_courses_to_be_booked(courses_to_be_booked)"
   ]
  },
  {
   "cell_type": "code",
   "execution_count": 13,
   "metadata": {},
   "outputs": [
    {
     "name": "stderr",
     "output_type": "stream",
     "text": [
      "Run time of job \"reserve_class (trigger: date[2020-09-08 04:34:00 CST], next run at: 2020-09-08 04:34:00 CST)\" was missed by 0:12:07.606229\n"
     ]
    }
   ],
   "source": [
    "def reserve_class():\n",
    "    start = time.time()\n",
    "    for course_to_be_booked in courses_to_be_booked:\n",
    "        book_url = course_to_be_booked['href']\n",
    "        driver.get(book_url)\n",
    "        btn = driver.find_element_by_xpath(\"//a[contains(text(), 'BOOK THIS CLASS NOW')]\")\n",
    "        btn.click()\n",
    "    print(\"Time Elapsed: {:.4g\\f}\".format(time.time() - start))\n",
    "    click_book_for_class()\n",
    "    \n",
    "# Start the scheduleruler\n",
    "scheduler = BackgroundScheduler()\n",
    "job = scheduler.add_job(reserve_class, 'date', run_date= book_datetime, args=[])\n",
    "scheduler.start()"
   ]
  }
 ],
 "metadata": {
  "kernelspec": {
   "display_name": "Python 3",
   "language": "python",
   "name": "python3"
  },
  "language_info": {
   "codemirror_mode": {
    "name": "ipython",
    "version": 3
   },
   "file_extension": ".py",
   "mimetype": "text/x-python",
   "name": "python",
   "nbconvert_exporter": "python",
   "pygments_lexer": "ipython3",
   "version": "3.7.1"
  }
 },
 "nbformat": 4,
 "nbformat_minor": 4
}
