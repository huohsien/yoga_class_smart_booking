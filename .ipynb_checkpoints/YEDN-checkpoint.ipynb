{
 "cells": [
  {
   "cell_type": "code",
   "execution_count": 1,
   "metadata": {},
   "outputs": [],
   "source": [
    "from lxml import html\n",
    "\n",
    "from bs4 import BeautifulSoup\n",
    "import time\n",
    "from datetime import datetime\n",
    "import threading\n",
    "from apscheduler.schedulers.background import BackgroundScheduler\n",
    "\n",
    "from selenium import webdriver\n",
    "from webdriver_manager.chrome import ChromeDriverManager\n",
    "\n",
    "from selenium.webdriver.common.by import By\n",
    "from selenium.webdriver.common.keys import Keys\n",
    "\n",
    "from selenium.webdriver.chrome.options import Options\n",
    "\n",
    "from selenium.webdriver.common.action_chains import ActionChains\n",
    "from selenium.webdriver.support.ui import WebDriverWait\n",
    "from selenium.webdriver.support import expected_conditions as ec"
   ]
  },
  {
   "cell_type": "code",
   "execution_count": 2,
   "metadata": {},
   "outputs": [],
   "source": [
    "#launch url\n",
    "base_url = \"https://www.trueclassbooking.com.tw/member/search-class.aspx\""
   ]
  },
  {
   "cell_type": "code",
   "execution_count": 3,
   "metadata": {},
   "outputs": [],
   "source": [
    "course_schedule = []"
   ]
  },
  {
   "cell_type": "code",
   "execution_count": 4,
   "metadata": {},
   "outputs": [
    {
     "name": "stderr",
     "output_type": "stream",
     "text": [
      "[WDM] - Current google-chrome version is 85.0.4183\n",
      "[WDM] - Get LATEST driver version for 85.0.4183\n",
      "[WDM] - Driver [/Users/huohsien/.wdm/drivers/chromedriver/mac64/85.0.4183.87/chromedriver] found in cache\n"
     ]
    },
    {
     "name": "stdout",
     "output_type": "stream",
     "text": [
      " \n"
     ]
    }
   ],
   "source": [
    "#setup option for chrome profile\n",
    "chrome_options = Options()\n",
    "# chrome_options.add_argument(\"user-data-dir=/Users/huohsien/Library/Application Support/Google/Chrome/Default/\")\n",
    "\n",
    "#start web driver\n",
    "driver = webdriver.Chrome(ChromeDriverManager().install(), options=chrome_options)\n",
    "driver.implicitly_wait(60)\n",
    "\n",
    "wait = WebDriverWait(driver, 30)"
   ]
  },
  {
   "cell_type": "code",
   "execution_count": 5,
   "metadata": {},
   "outputs": [],
   "source": [
    "def sign_in():\n",
    "    username = driver.find_element_by_id('ctl00_cphContents_txtUsername')\n",
    "    password = driver.find_element_by_id('ctl00_cphContents_txtPassword')\n",
    "    username.send_keys(\"DN20092360\")\n",
    "    password.send_keys(\"jj1216\")\n",
    "\n",
    "    wait.until(ec.visibility_of_element_located((By.CLASS_NAME, \"submit-button\")))\n",
    "    sign_in_btn = driver.find_element_by_class_name(\"submit-button\") \n",
    "    sign_in_btn.click()\n",
    "\n",
    "def click_book_for_class():\n",
    "    click_btn = driver.find_element_by_xpath(\"//a[contains(text(), 'Book for Class')]\")\n",
    "#     print(\"click_btn: \", click_btn)\n",
    "    click_btn.click()\n",
    "\n",
    "def teacher_norm(teacher):\n",
    "    if not teacher.startswith('-'):\n",
    "        return teacher\n",
    "    tmp = teacher.split('\\n')[0].split('- ')[1]\n",
    "    return tmp[:-2]\n",
    "\n",
    "def search_courses_by_date(date_str, courses=course_schedule):\n",
    "    results = []\n",
    "    \n",
    "    date_str = date_str.strip()\n",
    "    \n",
    "    for item in courses:\n",
    "        if date_str in item['date']:\n",
    "            results.append(item)\n",
    "    return results\n",
    "\n",
    "def search_courses_by_teacher(teacher_str, courses=course_schedule):\n",
    "    results = []\n",
    "    \n",
    "    teacher_str = teacher_str.strip()\n",
    "    \n",
    "    for item in courses:\n",
    "        if teacher_str in item['teacher']:\n",
    "            results.append(item)\n",
    "    return results\n",
    "def search_courses_by_name(name_str, courses=course_schedule):\n",
    "    results = []\n",
    "    \n",
    "    name_str = name_str.strip()\n",
    "    \n",
    "    for item in courses:\n",
    "        if name_str in item['name']:\n",
    "            results.append(item)\n",
    "    return results\n",
    "\n",
    "def search_courses_by_time(time_str, courses=course_schedule):\n",
    "    results = []\n",
    "    \n",
    "    time_str = time_str.strip()\n",
    "    \n",
    "    for item in courses:\n",
    "        if time_str in item['time']:\n",
    "            results.append(item)\n",
    "    return results"
   ]
  },
  {
   "cell_type": "code",
   "execution_count": 6,
   "metadata": {},
   "outputs": [],
   "source": [
    "driver.get(base_url)\n",
    "sign_in()\n",
    "time.sleep(1)\n",
    "click_book_for_class()"
   ]
  },
  {
   "cell_type": "code",
   "execution_count": 7,
   "metadata": {},
   "outputs": [
    {
     "ename": "NameError",
     "evalue": "name 'jj1216' is not defined",
     "output_type": "error",
     "traceback": [
      "\u001b[0;31m---------------------------------------------------------------------------\u001b[0m",
      "\u001b[0;31mNameError\u001b[0m                                 Traceback (most recent call last)",
      "\u001b[0;32m<ipython-input-7-3087e59863ce>\u001b[0m in \u001b[0;36m<module>\u001b[0;34m\u001b[0m\n\u001b[0;32m----> 1\u001b[0;31m \u001b[0mjj1216\u001b[0m\u001b[0;34m\u001b[0m\u001b[0;34m\u001b[0m\u001b[0m\n\u001b[0m\u001b[1;32m      2\u001b[0m \u001b[0mheader_titles\u001b[0m \u001b[0;34m=\u001b[0m \u001b[0;34m[\u001b[0m\u001b[0;34m]\u001b[0m\u001b[0;34m\u001b[0m\u001b[0;34m\u001b[0m\u001b[0m\n\u001b[1;32m      3\u001b[0m \u001b[0;34m\u001b[0m\u001b[0m\n\u001b[1;32m      4\u001b[0m \u001b[0mroom_td_elms\u001b[0m \u001b[0;34m=\u001b[0m \u001b[0mdriver\u001b[0m\u001b[0;34m.\u001b[0m\u001b[0mfind_elements_by_xpath\u001b[0m\u001b[0;34m(\u001b[0m\u001b[0;34m\"//div[@class='studios']/table/tbody/tr[1]/td\"\u001b[0m\u001b[0;34m)\u001b[0m\u001b[0;34m\u001b[0m\u001b[0;34m\u001b[0m\u001b[0m\n\u001b[1;32m      5\u001b[0m \u001b[0;32mfor\u001b[0m \u001b[0mroom_td_elm\u001b[0m \u001b[0;32min\u001b[0m \u001b[0mroom_td_elms\u001b[0m\u001b[0;34m:\u001b[0m\u001b[0;34m\u001b[0m\u001b[0;34m\u001b[0m\u001b[0m\n",
      "\u001b[0;31mNameError\u001b[0m: name 'jj1216' is not defined"
     ]
    }
   ],
   "source": [
    "header_titles = []\n",
    "\n",
    "room_td_elms = driver.find_elements_by_xpath(\"//div[@class='studios']/table/tbody/tr[1]/td\")\n",
    "for room_td_elm in room_td_elms:\n",
    "    room_select_btn = room_td_elm.find_element_by_xpath(\"./span\")\n",
    "    time.sleep(1)\n",
    "    room_select_btn.click()\n",
    "    th_elms = driver.find_elements_by_xpath(\"//div[@class='tbl-container']/table/tbody/tr[1]/th\")\n",
    "    for idx, th_elm in enumerate(th_elms):\n",
    "        header_title = th_elm.get_attribute(\"innerText\")\n",
    "        header_titles.append(header_title)\n",
    "\n",
    "    td_elms = driver.find_elements_by_xpath(\"//div[@class='tbl-container']/table/tbody/tr[2]/td\")\n",
    "\n",
    "    for idx, td_elm in enumerate(td_elms):\n",
    "        #skip useless Column data of 'TIME'\n",
    "        if idx == 0:\n",
    "            continue\n",
    "        a_elms = td_elm.find_elements_by_xpath(\"./a\")\n",
    "\n",
    "        for a_elm in a_elms:\n",
    "            course = {}\n",
    "            course['date'] = header_titles[idx]\n",
    "            course['href'] = a_elm.get_attribute('href')\n",
    "            span_1 = a_elm.find_element_by_xpath(\"./span[1]\")\n",
    "            course['name'] = span_1.get_attribute('innerText')\n",
    "            span_2 = a_elm.find_element_by_xpath(\"./span[2]\")\n",
    "            tmp_str = span_2.get_attribute('innerText')\n",
    "\n",
    "            teacher_str = tmp_str.split('\\n')[0]\n",
    "            time_str = tmp_str.split('\\n')[1]\n",
    "\n",
    "            course['teacher'] = teacher_norm(teacher_str)\n",
    "            course['time'] = time_str\n",
    "\n",
    "            course_schedule.append(course)\n",
    "        \n"
   ]
  },
  {
   "cell_type": "code",
   "execution_count": null,
   "metadata": {},
   "outputs": [],
   "source": [
    "# course_schedule"
   ]
  },
  {
   "cell_type": "code",
   "execution_count": null,
   "metadata": {},
   "outputs": [],
   "source": [
    "c1 = search_courses_by_date('Fri')\n",
    "c2 = search_courses_by_time('07:', c1)\n",
    "driver.get(c2[-1]['href'])\n",
    "btn = driver.find_element_by_xpath(\"//a[contains(text(), 'BOOK THIS CLASS NOW')]\")\n",
    "btn.click()\n",
    "click_book_for_class()"
   ]
  },
  {
   "cell_type": "code",
   "execution_count": null,
   "metadata": {},
   "outputs": [],
   "source": []
  }
 ],
 "metadata": {
  "kernelspec": {
   "display_name": "Python 3",
   "language": "python",
   "name": "python3"
  },
  "language_info": {
   "codemirror_mode": {
    "name": "ipython",
    "version": 3
   },
   "file_extension": ".py",
   "mimetype": "text/x-python",
   "name": "python",
   "nbconvert_exporter": "python",
   "pygments_lexer": "ipython3",
   "version": "3.7.1"
  }
 },
 "nbformat": 4,
 "nbformat_minor": 4
}
