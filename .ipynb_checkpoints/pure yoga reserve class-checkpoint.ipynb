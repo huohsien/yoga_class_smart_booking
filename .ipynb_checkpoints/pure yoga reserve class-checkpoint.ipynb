{
 "cells": [
  {
   "cell_type": "code",
   "execution_count": 5,
   "metadata": {},
   "outputs": [],
   "source": [
    "import requests\n",
    "from lxml import html\n",
    "from urllib.request import urlopen, Request\n",
    "\n",
    "from selenium import webdriver\n",
    "from selenium.webdriver.common.keys import Keys\n",
    "from bs4 import BeautifulSoup\n",
    "import re\n",
    "import pandas as pd\n",
    "import os\n",
    "import time\n",
    "from selenium.webdriver.support.ui import WebDriverWait\n",
    "from selenium.webdriver.support import expected_conditions as EC\n",
    "from selenium.webdriver.common.by import By\n",
    "from selenium.common.exceptions import TimeoutException"
   ]
  },
  {
   "cell_type": "code",
   "execution_count": 15,
   "metadata": {},
   "outputs": [
    {
     "name": "stdout",
     "output_type": "stream",
     "text": [
      "Page is ready! <selenium.webdriver.remote.webelement.WebElement (session=\"5b358521bd6b80146b7d125757b82c07\", element=\"0.48508183683895156-1\")>\n"
     ]
    }
   ],
   "source": [
    "#launch url\n",
    "url = \"https://pure360.pure-yoga.com/zh-tw/TW?location_id=24\"\n",
    "\n",
    "# create a new Firefox session\n",
    "browser = webdriver.Chrome()\n",
    "browser.implicitly_wait(30)\n",
    "browser.get(url)\n",
    "\n",
    "delay = 3 # seconds\n",
    "try:\n",
    "    sign_in_button = WebDriverWait(browser, delay).until(EC.element_to_be_clickable((By.ID, 'sign-in-btn')))\n",
    "    print(\"Page is ready!\",sign_in_button)\n",
    "except TimeoutException:\n",
    "    print(\"Loading took too much time!\")\n",
    "    \n",
    "#sign_in_button = browser.find_element_by_id('sign-in-btn')\n",
    "#time.sleep(1)\n",
    "sign_in_button.click()\n",
    "\n",
    "login_button = browser.find_element_by_name('login')\n",
    "username = browser.find_element_by_id(\"username\")\n",
    "username.clear()\n",
    "username.send_keys(\"huohsien@gmail.com\")\n",
    "\n",
    "password = browser.find_element_by_id(\"password\")\n",
    "password.clear()\n",
    "password.send_keys(\"jj121632\")\n",
    "login_button.click()"
   ]
  },
  {
   "cell_type": "code",
   "execution_count": null,
   "metadata": {},
   "outputs": [],
   "source": [
    "session_requests = requests.session()\n",
    "login_url = \"https://pure360.pure-yoga.com/zh-tw/TW?location_id=24\"\n",
    "result = session_requests.get(login_url)\n",
    "\n",
    "tree = html.fromstring(result.text)\n",
    "authenticity_token = list(set(tree.xpath(\"//meta[@name='csrf-token']/@content\")))[0]\n",
    "\n",
    "payload = {\n",
    "\t\"username\": \"huohsien@gmail.com\", \n",
    "\t\"password\": \"jj121632\"\n",
    "}\n",
    "\n",
    "result = session_requests.post(\n",
    "\tlogin_url, \n",
    "\tdata = payload, \n",
    "\theaders = {\"user-agent\":\"Mozilla/5.0 (Windows NT 6.1; rv:57.0) Gecko/20100101 Firefox/57.0\"}\n",
    ")\n",
    "\n",
    "result"
   ]
  },
  {
   "cell_type": "code",
   "execution_count": null,
   "metadata": {},
   "outputs": [],
   "source": [
    "def scrape(link):\n",
    "    try:\n",
    "        headers = {}\n",
    "        headers['User-Agent'] = \"Mozilla/5.0 (Windows NT 6.1) AppleWebKit/537.36 (KHTML, like Gecko) Chrome/41.0.2228.0 Safari/537.36\"\n",
    "        return str(urlopen(Request(link, headers = headers)).read())\n",
    "    except Exception as e:\n",
    "        print(str(e))"
   ]
  },
  {
   "cell_type": "code",
   "execution_count": null,
   "metadata": {},
   "outputs": [],
   "source": [
    "scrape(\"https://pure360.pure-yoga.com/zh-tw/TW?location_id=24\")"
   ]
  }
 ],
 "metadata": {
  "kernelspec": {
   "display_name": "Python 3",
   "language": "python",
   "name": "python3"
  },
  "language_info": {
   "codemirror_mode": {
    "name": "ipython",
    "version": 3
   },
   "file_extension": ".py",
   "mimetype": "text/x-python",
   "name": "python",
   "nbconvert_exporter": "python",
   "pygments_lexer": "ipython3",
   "version": "3.7.1"
  }
 },
 "nbformat": 4,
 "nbformat_minor": 2
}
