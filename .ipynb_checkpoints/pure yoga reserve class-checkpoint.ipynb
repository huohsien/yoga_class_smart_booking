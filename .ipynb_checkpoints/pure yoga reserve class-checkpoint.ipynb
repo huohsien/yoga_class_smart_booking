{
 "cells": [
  {
   "cell_type": "markdown",
   "metadata": {},
   "source": [
    "# Trial 1"
   ]
  },
  {
   "cell_type": "code",
   "execution_count": null,
   "metadata": {},
   "outputs": [],
   "source": [
    "import requests\n",
    "from lxml import html\n",
    "from urllib.request import urlopen, Request\n",
    "from selenium import webdriver\n",
    "from selenium.webdriver.common.keys import Keys\n",
    "from bs4 import BeautifulSoup\n",
    "import re\n",
    "import pandas as pd\n",
    "import os\n",
    "import time\n",
    "from datetime import datetime\n",
    "import threading\n",
    "from datetime import date\n",
    "from apscheduler.schedulers.background import BackgroundScheduler\n",
    "\n",
    "\n",
    "#launch url\n",
    "url = \"https://pure360.pure-yoga.com/zh-tw/TW?location_id=24\"\n",
    "\n",
    "# create a new Firefox session\n",
    "browser = webdriver.Chrome()\n",
    "browser.implicitly_wait(30)\n",
    "browser.get(url)\n",
    "\n",
    "sign_in_button = browser.find_element_by_id('sign-in-btn')\n",
    "time.sleep(1)\n",
    "sign_in_button.click()\n",
    "time.sleep(2)\n",
    "username = browser.find_element_by_id(\"username\")\n",
    "username.clear()\n",
    "username.send_keys(\"huohsien@gmail.com\")\n",
    "time.sleep(1)\n",
    "password = browser.find_element_by_id(\"password\")\n",
    "password.clear()\n",
    "password.send_keys(\"jj121632\")\n",
    "time.sleep(1)\n",
    "login_button = browser.find_element_by_name('login')\n",
    "login_button.click()\n",
    "time.sleep(1)\n",
    "data_soup = BeautifulSoup(browser.page_source,'lxml')\n",
    "result = data_soup.find_all(attrs={\"data-class-id\": True}, limit = 1)\n",
    "\n",
    "\n",
    "\n",
    "def fun_click_reserve_button():\n",
    "    global browser\n",
    "    reserve_button = browser.find_element_by_xpath(\"//button[@data-class-id='9058']\")\n",
    "    time.sleep(1)\n",
    "    reserve_button.click()\n",
    "    time.sleep(1)\n",
    "    #browser.refresh()\n",
    "    #time.sleep(5)\n",
    "    #fun_click_reserve_button()\n",
    "\n",
    "# Define the function that is to be executed\n",
    "def my_job(text):\n",
    "    print(text)\n",
    "    global browser\n",
    "    browser.quit()\n",
    "\n",
    "# Start the scheduler\n",
    "sched = BackgroundScheduler()\n",
    "job = sched.add_job(my_job, 'date', run_date=datetime(2019, 1, 4, 14, 38, 5), args=['text'])\n",
    "sched.start()\n",
    "\n",
    "\n",
    "\n",
    "\n",
    "    "
   ]
  },
  {
   "cell_type": "markdown",
   "metadata": {},
   "source": [
    "# Trial 2 (better)"
   ]
  },
  {
   "cell_type": "code",
   "execution_count": null,
   "metadata": {},
   "outputs": [],
   "source": [
    "from lxml import html\n",
    "from selenium import webdriver\n",
    "from selenium.webdriver.common.keys import Keys\n",
    "from bs4 import BeautifulSoup\n",
    "import time\n",
    "from datetime import datetime\n",
    "import threading\n",
    "from apscheduler.schedulers.background import BackgroundScheduler\n",
    "\n",
    "\n",
    "#launch url\n",
    "url = \"https://pure360.pure-yoga.com/en/TW?location_id=24\"\n",
    "\n",
    "# create a new Chrome session\n",
    "browser = webdriver.Chrome()\n",
    "browser.implicitly_wait(30)\n",
    "browser.get(url)\n",
    "\n",
    "sign_in_button = browser.find_element_by_id('sign-in-btn')\n",
    "time.sleep(1)\n",
    "sign_in_button.click()\n",
    "time.sleep(2)\n",
    "username = browser.find_element_by_id(\"username\")\n",
    "username.clear()\n",
    "username.send_keys(\"huohsien@gmail.com\")\n",
    "time.sleep(1)\n",
    "password = browser.find_element_by_id(\"password\")\n",
    "password.clear()\n",
    "password.send_keys(\"jj121632\")\n",
    "time.sleep(1)\n",
    "login_button = browser.find_element_by_name('login')\n",
    "login_button.click()\n",
    "time.sleep(1)\n",
    "data_soup = BeautifulSoup(browser.page_source,'lxml')"
   ]
  },
  {
   "cell_type": "markdown",
   "metadata": {},
   "source": [
    "### NOT WORKING"
   ]
  },
  {
   "cell_type": "code",
   "execution_count": null,
   "metadata": {},
   "outputs": [],
   "source": [
    "tds = data_soup.findAll(\"td\",attrs={\"data-date\":\"Sat Jan 5\",\"data-time\":\"08:30\"})\n",
    "for td in tds:\n",
    "    if td.find('button'):\n",
    "        print(type(button))\n"
   ]
  },
  {
   "cell_type": "markdown",
   "metadata": {},
   "source": [
    "### Try another way and succeeded!"
   ]
  },
  {
   "cell_type": "code",
   "execution_count": null,
   "metadata": {},
   "outputs": [],
   "source": [
    "def reserve_class(browser, str_date, str_time):\n",
    "    # class to be booked, specify date and time\n",
    "    td = browser.find_element_by_xpath(\"//td[@data-date='\" + str_date + \"'][@data-time='\" + str_time + \"']\")\n",
    "    button = td.find_element_by_xpath(\".//button\")\n",
    "    button.click()"
   ]
  },
  {
   "cell_type": "code",
   "execution_count": null,
   "metadata": {},
   "outputs": [],
   "source": [
    "# Start the scheduler\n",
    "sched = BackgroundScheduler()\n",
    "job = sched.add_job(reserve_class, 'date', run_date=datetime(2019, 1, 5, 0, 26, 5), args=[browser, 'Sat Jan 5', '08:30'])\n",
    "sched.start()"
   ]
  },
  {
   "cell_type": "markdown",
   "metadata": {},
   "source": [
    "# Pure Tower"
   ]
  },
  {
   "cell_type": "code",
   "execution_count": null,
   "metadata": {},
   "outputs": [],
   "source": [
    "reserve_class(browser, \"Mon Jan 7\", \"16:30\")\n",
    "reserve_class(browser, \"Mon Jan 7\", \"17:45\")\n",
    "reserve_class(browser, \"Mon Jan 7\", \"19:00\") #\n",
    "reserve_class(browser, \"Tue Jan 8\", \"15:00\")\n",
    "reserve_class(browser, \"Tue Jan 8\", \"16:30\")\n",
    "reserve_class(browser, \"Tue Jan 8\", \"19:00\")\n",
    "reserve_class(browser, \"Tue Jan 8\", \"20:15\")"
   ]
  },
  {
   "cell_type": "markdown",
   "metadata": {},
   "source": [
    "# complete Program"
   ]
  },
  {
   "cell_type": "code",
   "execution_count": 9,
   "metadata": {},
   "outputs": [
    {
     "name": "stderr",
     "output_type": "stream",
     "text": [
      "Job \"reserve_class (trigger: date[2019-01-06 03:07:50 CST], next run at: 2019-01-06 03:07:50 CST)\" raised an exception\n",
      "Traceback (most recent call last):\n",
      "  File \"/Users/huohsien/anaconda2/envs/web/lib/python3.7/site-packages/apscheduler/executors/base.py\", line 125, in run_job\n",
      "    retval = job.func(*job.args, **job.kwargs)\n",
      "  File \"<ipython-input-9-89c85fb867ce>\", line 53, in reserve_class\n",
      "    button.click()\n",
      "  File \"/Users/huohsien/anaconda2/envs/web/lib/python3.7/site-packages/selenium/webdriver/remote/webelement.py\", line 80, in click\n",
      "    self._execute(Command.CLICK_ELEMENT)\n",
      "  File \"/Users/huohsien/anaconda2/envs/web/lib/python3.7/site-packages/selenium/webdriver/remote/webelement.py\", line 633, in _execute\n",
      "    return self._parent.execute(command, params)\n",
      "  File \"/Users/huohsien/anaconda2/envs/web/lib/python3.7/site-packages/selenium/webdriver/remote/webdriver.py\", line 321, in execute\n",
      "    self.error_handler.check_response(response)\n",
      "  File \"/Users/huohsien/anaconda2/envs/web/lib/python3.7/site-packages/selenium/webdriver/remote/errorhandler.py\", line 242, in check_response\n",
      "    raise exception_class(message, screen, stacktrace)\n",
      "selenium.common.exceptions.WebDriverException: Message: unknown error: Element <button type=\"button\" class=\"btn class-book-btn btn-book\" data-class-id=\"9126\" data-btn-status=\"1\">...</button> is not clickable at point (311, 17). Other element would receive the click: <div id=\"navbar\" class=\"navbar-collapse collapse\">...</div>\n",
      "  (Session info: chrome=71.0.3578.98)\n",
      "  (Driver info: chromedriver=2.45.615355 (d5698f682d8b2742017df6c81e0bd8e6a3063189),platform=Mac OS X 10.13.6 x86_64)\n",
      "\n"
     ]
    },
    {
     "name": "stdout",
     "output_type": "stream",
     "text": [
      "."
     ]
    },
    {
     "ename": "KeyboardInterrupt",
     "evalue": "",
     "output_type": "error",
     "traceback": [
      "\u001b[0;31m---------------------------------------------------------------------------\u001b[0m",
      "\u001b[0;31mKeyboardInterrupt\u001b[0m                         Traceback (most recent call last)",
      "\u001b[0;32m<ipython-input-9-89c85fb867ce>\u001b[0m in \u001b[0;36m<module>\u001b[0;34m\u001b[0m\n\u001b[1;32m     66\u001b[0m \u001b[0;34m\u001b[0m\u001b[0m\n\u001b[1;32m     67\u001b[0m \u001b[0;32mwhile\u001b[0m \u001b[0mis_running\u001b[0m\u001b[0;34m:\u001b[0m\u001b[0;34m\u001b[0m\u001b[0;34m\u001b[0m\u001b[0m\n\u001b[0;32m---> 68\u001b[0;31m     \u001b[0mtime\u001b[0m\u001b[0;34m.\u001b[0m\u001b[0msleep\u001b[0m\u001b[0;34m(\u001b[0m\u001b[0;36m60\u001b[0m\u001b[0;34m)\u001b[0m\u001b[0;34m\u001b[0m\u001b[0;34m\u001b[0m\u001b[0m\n\u001b[0m\u001b[1;32m     69\u001b[0m     \u001b[0msys\u001b[0m\u001b[0;34m.\u001b[0m\u001b[0mstdout\u001b[0m\u001b[0;34m.\u001b[0m\u001b[0mwrite\u001b[0m\u001b[0;34m(\u001b[0m\u001b[0;34m'.'\u001b[0m\u001b[0;34m)\u001b[0m\u001b[0;34m;\u001b[0m \u001b[0msys\u001b[0m\u001b[0;34m.\u001b[0m\u001b[0mstdout\u001b[0m\u001b[0;34m.\u001b[0m\u001b[0mflush\u001b[0m\u001b[0;34m(\u001b[0m\u001b[0;34m)\u001b[0m\u001b[0;34m\u001b[0m\u001b[0;34m\u001b[0m\u001b[0m\n",
      "\u001b[0;31mKeyboardInterrupt\u001b[0m: "
     ]
    }
   ],
   "source": [
    "#imports\n",
    "\n",
    "from lxml import html\n",
    "from selenium import webdriver\n",
    "from selenium.webdriver.common.keys import Keys\n",
    "from bs4 import BeautifulSoup\n",
    "import time\n",
    "from datetime import datetime\n",
    "import threading\n",
    "from apscheduler.schedulers.background import BackgroundScheduler\n",
    "import sys\n",
    "\n",
    "#settings\n",
    "url = \"https://pure360.pure-yoga.com/en/TW?location_id=24\"\n",
    "classes = [{\"date\":\"Tue Jan 8\",\"time\":\"19:00\"},\n",
    "           {\"date\":\"Tue Jan 8\",\"time\":\"15:00\"},\n",
    "           {\"date\":\"Tue Jan 8\",\"time\":\"20:15\"},\n",
    "           {\"date\":\"Tue Jan 8\",\"time\":\"16:30\"}]\n",
    "\n",
    "#classes = [{\"date\":\"Mon Jan 7\",\"time\":\"06:30\"},{\"date\":\"Mon Jan 7\",\"time\":\"09:00\"},{\"date\":\"Mon Jan 7\",\"time\":\"11:00\"},{\"date\":\"Mon Jan 7\",\"time\":\"14:00\"}]\n",
    "\n",
    "\n",
    "book_datetime = datetime(2019, 1, 6, 9, 0, 0)\n",
    "is_running = True\n",
    "\n",
    "# create a new Chrome session\n",
    "browser = webdriver.Chrome()\n",
    "browser.implicitly_wait(30)\n",
    "browser.get(url)\n",
    "\n",
    "sign_in_button = browser.find_element_by_id('sign-in-btn')\n",
    "time.sleep(1)\n",
    "sign_in_button.click()\n",
    "time.sleep(2)\n",
    "username = browser.find_element_by_id(\"username\")\n",
    "username.clear()\n",
    "username.send_keys(\"huohsien@gmail.com\")\n",
    "time.sleep(1)\n",
    "password = browser.find_element_by_id(\"password\")\n",
    "password.clear()\n",
    "password.send_keys(\"jj121632\")\n",
    "time.sleep(1)\n",
    "login_button = browser.find_element_by_name('login')\n",
    "login_button.click()\n",
    "time.sleep(1)\n",
    "data_soup = BeautifulSoup(browser.page_source,'lxml')\n",
    "\n",
    "def reserve_class(browser, classes):\n",
    "    for c in classes:\n",
    "       # class to be booked, specify date and time\n",
    "        td = browser.find_element_by_xpath(\"//td[@data-date='\" + c['date'] + \"'][@data-time='\" + c['time'] + \"']\")\n",
    "        button = td.find_element_by_xpath(\".//button\")\n",
    "        button.click()\n",
    "        time.sleep(4)\n",
    "    \n",
    "    global is_running\n",
    "    time.sleep(6)\n",
    "    is_running = False\n",
    "    browser.quit()\n",
    "\n",
    "\n",
    "# Start the scheduleruler\n",
    "scheduler = BackgroundScheduler()\n",
    "job = scheduler.add_job(reserve_class, 'date', run_date= book_datetime, args=[browser, classes])\n",
    "scheduler.start()\n",
    "\n",
    "while is_running:\n",
    "    time.sleep(60)\n",
    "    sys.stdout.write('.'); sys.stdout.flush()\n"
   ]
  },
  {
   "cell_type": "markdown",
   "metadata": {},
   "source": [
    "# ------------------------\n",
    "\n",
    "# scrape without Selenum"
   ]
  },
  {
   "cell_type": "code",
   "execution_count": null,
   "metadata": {},
   "outputs": [],
   "source": [
    "session_requests = requests.session()\n",
    "login_url = \"https://pure360.pure-yoga.com/zh-tw/TW?location_id=24\"\n",
    "result = session_requests.get(login_url)\n",
    "\n",
    "tree = html.fromstring(result.text)\n",
    "authenticity_token = list(set(tree.xpath(\"//meta[@name='csrf-token']/@content\")))[0]\n",
    "\n",
    "payload = {\n",
    "\t\"username\": \"huohsien@gmail.com\", \n",
    "\t\"password\": \"jj121632\"\n",
    "}\n",
    "\n",
    "result = session_requests.post(\n",
    "\tlogin_url, \n",
    "\tdata = payload, \n",
    "\theaders = {\"user-agent\":\"Mozilla/5.0 (Windows NT 6.1; rv:57.0) Gecko/20100101 Firefox/57.0\"}\n",
    ")\n",
    "\n",
    "result"
   ]
  },
  {
   "cell_type": "code",
   "execution_count": null,
   "metadata": {},
   "outputs": [],
   "source": [
    "def scrape(link):\n",
    "    try:\n",
    "        headers = {}\n",
    "        headers['User-Agent'] = \"Mozilla/5.0 (Windows NT 6.1) AppleWebKit/537.36 (KHTML, like Gecko) Chrome/41.0.2228.0 Safari/537.36\"\n",
    "        return str(urlopen(Request(link, headers = headers)).read())\n",
    "    except Exception as e:\n",
    "        print(str(e))"
   ]
  },
  {
   "cell_type": "code",
   "execution_count": null,
   "metadata": {},
   "outputs": [],
   "source": [
    "scrape(\"https://pure360.pure-yoga.com/zh-tw/TW?location_id=24\")"
   ]
  }
 ],
 "metadata": {
  "kernelspec": {
   "display_name": "Python 3",
   "language": "python",
   "name": "python3"
  },
  "language_info": {
   "codemirror_mode": {
    "name": "ipython",
    "version": 3
   },
   "file_extension": ".py",
   "mimetype": "text/x-python",
   "name": "python",
   "nbconvert_exporter": "python",
   "pygments_lexer": "ipython3",
   "version": "3.7.1"
  }
 },
 "nbformat": 4,
 "nbformat_minor": 2
}
