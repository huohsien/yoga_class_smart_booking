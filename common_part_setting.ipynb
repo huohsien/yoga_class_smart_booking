{
 "cells": [
  {
   "cell_type": "code",
   "execution_count": null,
   "id": "14517420",
   "metadata": {},
   "outputs": [],
   "source": [
    "course_schedule = []\n",
    "IMPLICIT_WAIT_TIME = 20\n",
    "EXPLICIT_WAIT_TIME = 20\n",
    "WINDOWS_GRID_X = 3\n",
    "WINDOWS_GRID_Y = 2\n",
    "# SCREEN_WIDTH = 1920\n",
    "# SCREEN_HEIGHT = 1080\n",
    "SCREEN_WIDTH = 2560\n",
    "SCREEN_HEIGHT = 1440\n",
    "# SCREEN_WIDTH = 2048\n",
    "# SCREEN_HEIGHT = 1152\n",
    "# SCREEN_WIDTH = 1920\n",
    "# SCREEN_HEIGHT = 1200\n",
    "# SCREEN_WIDTH = 3200\n",
    "# SCREEN_HEIGHT = 1800\n",
    "WINDOW_WIDTH = SCREEN_WIDTH / WINDOWS_GRID_X\n",
    "WINDOW_HEIGHT = SCREEN_HEIGHT / WINDOWS_GRID_Y"
   ]
  },
  {
   "cell_type": "code",
   "execution_count": 1,
   "id": "d88cee3b",
   "metadata": {},
   "outputs": [],
   "source": [
    "import numpy as np\n",
    "\n",
    "YEAR = 2023\n",
    "MONTH = 7\n",
    "DAY = 7\n",
    "\n",
    "# schedule_filename = \"03 July - 09 July 2023.json\"\n",
    "\n",
    "DELAY_TIME_BOOKING = 0.45\n",
    "DELAY_BOOKING_TIMES = np.arange(0.3, 1.5, 0.3).tolist()\n",
    "\n",
    "TIME_INTERVAL_SIGNIN_BOOKING = 600 #10 minutes"
   ]
  }
 ],
 "metadata": {
  "kernelspec": {
   "display_name": "Python 3",
   "language": "python",
   "name": "python3"
  },
  "language_info": {
   "codemirror_mode": {
    "name": "ipython",
    "version": 3
   },
   "file_extension": ".py",
   "mimetype": "text/x-python",
   "name": "python",
   "nbconvert_exporter": "python",
   "pygments_lexer": "ipython3",
   "version": "3.7.1"
  }
 },
 "nbformat": 4,
 "nbformat_minor": 5
}
