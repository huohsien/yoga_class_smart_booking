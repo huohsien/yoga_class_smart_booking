{
 "cells": [
  {
   "cell_type": "code",
   "execution_count": 1,
   "id": "547068d5",
   "metadata": {},
   "outputs": [],
   "source": [
    "YEAR = 2023\n",
    "MONTH = 7\n",
    "DAY = 5\n",
    "\n",
    "schedule_filename = \"03 July - 09 July 2023.json\"\n",
    "\n",
    "DELAY_TIME_BOOKING = 0.45\n",
    "DELAY_BOOKING_TIMES = np.arange(0.3, 1.5, 0.3).tolist()\n",
    "\n",
    "TIME_INTERVAL_SIGNIN_BOOKING = 600 #10 minutes"
   ]
  },
  {
   "cell_type": "code",
   "execution_count": 2,
   "id": "a1e06691",
   "metadata": {},
   "outputs": [
    {
     "name": "stdout",
     "output_type": "stream",
     "text": [
      "09\n"
     ]
    }
   ],
   "source": [
    "from tkinter import Y\n",
    "\n",
    "day = DAY + 4\n",
    "\n",
    "if MONTH in [1, 3, 5, 7, 8, 10, 12]:\n",
    "    if day > 31:\n",
    "        day = day % 31\n",
    "elif MONTH in [4, 6, 9, 11]:\n",
    "    if day > 30:\n",
    "        day = day % 30\n",
    "elif MONTH is \"2\":\n",
    "    if YEAR % 4 != 0:\n",
    "        if day > 28:\n",
    "            day = day % 28\n",
    "    else:\n",
    "        if day > 29:\n",
    "            day = day % 29\n",
    "\n",
    "    \n",
    "if day / 10 < 1:\n",
    "    Day_string = \"0{}\".format(day)\n",
    "else:\n",
    "    Day_string = \"{}\".format(day)\n",
    "\n",
    "# print(Day_string)"
   ]
  }
 ],
 "metadata": {
  "kernelspec": {
   "display_name": "Python 3",
   "language": "python",
   "name": "python3"
  },
  "language_info": {
   "codemirror_mode": {
    "name": "ipython",
    "version": 3
   },
   "file_extension": ".py",
   "mimetype": "text/x-python",
   "name": "python",
   "nbconvert_exporter": "python",
   "pygments_lexer": "ipython3",
   "version": "3.7.1"
  }
 },
 "nbformat": 4,
 "nbformat_minor": 5
}
