{
 "cells": [
  {
   "cell_type": "code",
   "execution_count": 11,
   "metadata": {},
   "outputs": [],
   "source": [
    "login_url = 'https://www.trueclassbooking.com.tw/member/login.aspx'\n",
    "home_url = 'https://www.trueclassbooking.com.tw/member/dashboard.aspx'"
   ]
  },
  {
   "cell_type": "code",
   "execution_count": null,
   "metadata": {},
   "outputs": [],
   "source": [
    "s = requests.Session()"
   ]
  },
  {
   "cell_type": "code",
   "execution_count": null,
   "metadata": {},
   "outputs": [],
   "source": [
    "payload = dict(email = 'Myemail', password = 'Mypass')\n",
    "with session() as s:\n",
    "    soup = BeautifulSoup(s.get(url).content,'lxml')\n",
    "    p = s.post(url, data = payload, verify=True)\n",
    "    print(p.text)"
   ]
  },
  {
   "cell_type": "code",
   "execution_count": null,
   "metadata": {},
   "outputs": [],
   "source": [
    "import requests\n",
    "\n",
    "# Fill in your details here to be posted to the login form.\n",
    "payload = {\n",
    "    'ctl00$cphContents$txtUsername': 'DN20092360',\n",
    "    'ctl00$cphContents$txtPassword': 'jj1216'\n",
    "}\n",
    "\n",
    "# Use 'with' to ensure the session context is closed after use.\n",
    "with requests.Session() as s:\n",
    "    p = s.post(url, data=payload)\n",
    "    # print the html returned or something more intelligent to see if it's a successful login page.\n",
    "    print(p.text)\n",
    "\n",
    "#     # An authorised request.\n",
    "#     r = s.get('A protected web page url')\n",
    "#     print(r.text)"
   ]
  },
  {
   "cell_type": "code",
   "execution_count": 12,
   "metadata": {},
   "outputs": [
    {
     "name": "stdout",
     "output_type": "stream",
     "text": [
      "data:  {'ctl00$cphContents$txtUsername': 'DN20092360', 'ctl00$cphContents$txtPassword': 'jj1216', 'ctl00$cphContents$hdnToken': '15794CA52FDC92A36495071601E9FCB7', 'ctl00$cphContents$btnLogin': 'Login', '___VIEWSTATE': '/wEPDwUJMzgyMjI4ODk5D2QWAmYPZBYCZg8WAh4GYWN0aW9uBRdsb2dpbi5hc3B4P2xvZ2luLWZhaWxlZGRkcfBSA/o1OmNPvTLEndhBSCy+ns4=', '__VIEWSTATEGENERATOR': '625BA342'}\n",
      "Same page\n"
     ]
    }
   ],
   "source": [
    "import requests\n",
    "from bs4 import BeautifulSoup\n",
    "\n",
    "data = {'ctl00$cphContents$txtUsername': 'DN20092360',\n",
    "        'ctl00$cphContents$txtPassword': 'jj1216',\n",
    "        'ctl00$cphContents$hdnToken' : '15794CA52FDC92A36495071601E9FCB7',\n",
    "        'ctl00$cphContents$btnLogin' : 'Login'\n",
    "       }\n",
    "# A Session object will persist the login cookies.\n",
    "with requests.Session() as s:\n",
    "    page = s.get(login_url)\n",
    "    soup = BeautifulSoup(page.content)\n",
    "    data[\"___VIEWSTATE\"] = soup.select_one(\"#__VIEWSTATE\")[\"value\"]\n",
    "    data[\"__VIEWSTATEGENERATOR\"] = soup.select_one(\"#__VIEWSTATEGENERATOR\")[\"value\"]\n",
    "    print(\"data: \", data)\n",
    "    s.post(login_url, data=data)\n",
    "    open_page = s.get(home_url)\n",
    "\n",
    "    #Check content\n",
    "    if page.text == open_page.text:\n",
    "        print(\"Same page\")\n",
    "    else:\n",
    "        print(open_page.text)\n",
    "        print(\"Different page!\")"
   ]
  }
 ],
 "metadata": {
  "kernelspec": {
   "display_name": "Python 3",
   "language": "python",
   "name": "python3"
  },
  "language_info": {
   "codemirror_mode": {
    "name": "ipython",
    "version": 3
   },
   "file_extension": ".py",
   "mimetype": "text/x-python",
   "name": "python",
   "nbconvert_exporter": "python",
   "pygments_lexer": "ipython3",
   "version": "3.7.1"
  }
 },
 "nbformat": 4,
 "nbformat_minor": 4
}
