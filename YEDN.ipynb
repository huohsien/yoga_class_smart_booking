{
 "cells": [
  {
   "cell_type": "code",
   "execution_count": 1,
   "metadata": {},
   "outputs": [],
   "source": [
    "from lxml import html\n",
    "\n",
    "from bs4 import BeautifulSoup\n",
    "import time\n",
    "from datetime import datetime\n",
    "import threading\n",
    "from apscheduler.schedulers.background import BackgroundScheduler\n",
    "\n",
    "from selenium import webdriver\n",
    "from webdriver_manager.chrome import ChromeDriverManager\n",
    "\n",
    "from selenium.webdriver.common.by import By\n",
    "from selenium.webdriver.common.keys import Keys\n",
    "\n",
    "from selenium.webdriver.chrome.options import Options\n",
    "\n",
    "from selenium.webdriver.common.action_chains import ActionChains\n",
    "from selenium.webdriver.support.ui import WebDriverWait\n",
    "from selenium.webdriver.support import expected_conditions as ec\n",
    "\n",
    "import json\n",
    "import os\n",
    "\n",
    "import time\n",
    "from datetime import datetime\n",
    "import threading\n",
    "from apscheduler.schedulers.background import BackgroundScheduler\n",
    "import sys"
   ]
  },
  {
   "cell_type": "code",
   "execution_count": 2,
   "metadata": {},
   "outputs": [],
   "source": [
    "#launch url\n",
    "base_url = \"https://www.trueclassbooking.com.tw/member/search-class.aspx\""
   ]
  },
  {
   "cell_type": "code",
   "execution_count": 3,
   "metadata": {},
   "outputs": [],
   "source": [
    "class_schedules_folder_path = './class_schedules'"
   ]
  },
  {
   "cell_type": "code",
   "execution_count": 4,
   "metadata": {},
   "outputs": [],
   "source": [
    "course_schedule = []"
   ]
  },
  {
   "cell_type": "code",
   "execution_count": 5,
   "metadata": {},
   "outputs": [
    {
     "output_type": "stream",
     "name": "stderr",
     "text": [
      "[WDM] - Current google-chrome version is 92.0.4515\n",
      "[WDM] - Get LATEST driver version for 92.0.4515\n",
      " \n",
      "[WDM] - There is no [mac64] chromedriver for browser 92.0.4515 in cache\n",
      "[WDM] - Get LATEST driver version for 92.0.4515\n",
      "[WDM] - Trying to download new driver from http://chromedriver.storage.googleapis.com/92.0.4515.107/chromedriver_mac64.zip\n",
      "[WDM] - Driver has been saved in cache [/Users/huohsien/.wdm/drivers/chromedriver/mac64/92.0.4515.107]\n"
     ]
    }
   ],
   "source": [
    "#setup option for chrome profile\n",
    "chrome_options = Options()\n",
    "# chrome_options.add_argument(\"user-data-dir=/Users/huohsien/Library/Application Support/Google/Chrome/Default/\")\n",
    "\n",
    "#start web driver\n",
    "driver = webdriver.Chrome(ChromeDriverManager().install(), options=chrome_options)\n",
    "driver.implicitly_wait(30)\n",
    "\n",
    "wait = WebDriverWait(driver, 30)"
   ]
  },
  {
   "cell_type": "code",
   "execution_count": 6,
   "metadata": {},
   "outputs": [],
   "source": [
    "from selenium.common.exceptions import NoSuchElementException        \n",
    "def check_exists_by_xpath(xpath):\n",
    "    try:\n",
    "        driver.find_element_by_xpath(xpath)\n",
    "    except NoSuchElementException:\n",
    "        return False\n",
    "    return True\n",
    "\n",
    "def sync_get_element_by_xpath(xpath):\n",
    "    wait.until(ec.visibility_of_element_located((By.XPATH, xpath)))\n",
    "    return driver.find_element_by_xpath(xpath)"
   ]
  },
  {
   "cell_type": "code",
   "execution_count": 7,
   "metadata": {},
   "outputs": [],
   "source": [
    "def send_keys(elm, string):\n",
    "    for c in string:\n",
    "        elm.send_keys(c)"
   ]
  },
  {
   "cell_type": "code",
   "execution_count": 8,
   "metadata": {},
   "outputs": [],
   "source": [
    "def sign_in():\n",
    "    username = driver.find_element_by_id('ctl00_cphContents_txtUsername')\n",
    "    password = driver.find_element_by_id('ctl00_cphContents_txtPassword')\n",
    "#     username.send_keys(\"DN20092360\")\n",
    "#     password.send_keys(\"jj1216\")\n",
    "    send_keys(username, \"DN20092360\")\n",
    "    send_keys(password, \"jj1216\")\n",
    "    wait.until(ec.visibility_of_element_located((By.CLASS_NAME, \"submit-button\")))\n",
    "    sign_in_btn = driver.find_element_by_class_name(\"submit-button\") \n",
    "    sign_in_btn.click()\n",
    "\n",
    "def click_book_for_class():\n",
    "    click_btn = sync_get_element_by_xpath(\"//a[contains(text(), 'Book for Class')]\")\n",
    "#     print(\"click_btn: \", click_btn)\n",
    "    click_btn.click()\n",
    "\n",
    "def teacher_norm(teacher):\n",
    "    if not teacher.startswith('-'):\n",
    "        return teacher\n",
    "    tmp = teacher.split('\\n')[0].split('- ')[1]\n",
    "    return tmp[:-2]\n",
    "\n",
    "def search_courses_by_date(date_str, courses=course_schedule):\n",
    "    results = []\n",
    "    \n",
    "    date_str = date_str.strip()\n",
    "    \n",
    "    for item in courses:\n",
    "        if date_str in item['date']:\n",
    "            results.append(item)\n",
    "    return results\n",
    "\n",
    "def search_courses_by_teacher(teacher_str, courses=course_schedule):\n",
    "    results = []\n",
    "    \n",
    "    teacher_str = teacher_str.strip()\n",
    "    \n",
    "    for item in courses:\n",
    "        if teacher_str in item['teacher']:\n",
    "            results.append(item)\n",
    "    return results\n",
    "def search_courses_by_name(name_str, courses=course_schedule):\n",
    "    results = []\n",
    "    \n",
    "    name_str = name_str.strip()\n",
    "    \n",
    "    for item in courses:\n",
    "        if name_str in item['name']:\n",
    "            results.append(item)\n",
    "    return results\n",
    "\n",
    "def search_courses_by_time(time_str, courses=course_schedule):\n",
    "    results = []\n",
    "    \n",
    "    time_str = time_str.strip()\n",
    "    \n",
    "    for item in courses:\n",
    "        if time_str in item['time']:\n",
    "            results.append(item)\n",
    "    return results\n",
    "def get_course_schedule_table_title():\n",
    "    return driver.find_element_by_xpath(\"//div[@class='tbl-header']\").get_attribute('innerText')\n",
    "\n",
    "def click_next_week_btn():\n",
    "    print(\"#0\")\n",
    "    if check_exists_by_xpath(\"//*[@class='btnCircleRight']\"):\n",
    "        print(\"%1\")\n",
    "        btns = driver.find_elements_by_class_name('btnCircleRight')\n",
    "    else:\n",
    "        print(\"@1\")\n",
    "        return False\n",
    "    \n",
    "    print(\"#1\")\n",
    "    if btns is not None:\n",
    "        \n",
    "        if not len(btns) == 1:\n",
    "            return False\n",
    "        \n",
    "        print(\"#2\")\n",
    "        btns[0].click()\n",
    "        \n",
    "        return True\n",
    "    else:\n",
    "        print(\"#3\")\n",
    "        return False\n",
    "\n",
    "def click_previous_week_btn():\n",
    "    if check_exists_by_xpath(\"//*[@class='btnCircleLeft']\"):\n",
    "        btns = driver.find_elements_by_class_name('btnCircleLeft')\n",
    "    else:\n",
    "        print(\"@2\")\n",
    "        return False\n",
    "    \n",
    "    if btns is not None:\n",
    "        \n",
    "        assert len(btns) == 1\n",
    "        \n",
    "        btns[0].click()\n",
    "        return True\n",
    "    else:\n",
    "        return False"
   ]
  },
  {
   "cell_type": "code",
   "execution_count": 9,
   "metadata": {},
   "outputs": [],
   "source": [
    "driver.get(base_url)\n",
    "sign_in()\n",
    "# time.sleep(1)\n",
    "start = time.time()\n",
    "click_book_for_class()"
   ]
  },
  {
   "cell_type": "code",
   "execution_count": 10,
   "metadata": {},
   "outputs": [],
   "source": [
    "def scrape_a_week():\n",
    "    course_schedule = []\n",
    "    header_titles = []\n",
    "\n",
    "    room_td_elms = driver.find_elements_by_xpath(\"//div[@class='studios']/table/tbody/tr[1]/td\")\n",
    "\n",
    "    for room_idx in range(len(room_td_elms)):\n",
    "        room_select_btn = room_td_elms[room_idx].find_element_by_xpath(\"./span\")\n",
    "        room_label = room_select_btn.find_element_by_xpath(\"./label\")\n",
    "        room_name = room_label.get_attribute('innerText')\n",
    "\n",
    "#         time.sleep(1)\n",
    "        if room_name == '敦南 6 A 教室' or room_name == '敦南 6 B 教室':\n",
    "            continue\n",
    "        \n",
    "        print(room_name)\n",
    "        room_select_btn.click()\n",
    "        room_td_elms = driver.find_elements_by_xpath(\"//div[@class='studios']/table/tbody/tr[1]/td\")\n",
    "\n",
    "        th_elms = driver.find_elements_by_xpath(\"//div[@class='tbl-container']/table/tbody/tr[1]/th\")\n",
    "        for idx, th_elm in enumerate(th_elms):\n",
    "            header_title = th_elm.get_attribute(\"innerText\")\n",
    "            header_titles.append(header_title)\n",
    "\n",
    "        td_elms = driver.find_elements_by_xpath(\"//div[@class='tbl-container']/table/tbody/tr[2]/td\")\n",
    "\n",
    "        for idx, td_elm in enumerate(td_elms):\n",
    "            #skip useless Column data of 'TIME'\n",
    "            if idx == 0:\n",
    "                continue\n",
    "            a_elms = td_elm.find_elements_by_xpath(\"./a\")\n",
    "\n",
    "            for a_elm in a_elms:\n",
    "                course = {}\n",
    "                course['room'] = room_td_elms[room_idx].get_attribute(\"innerText\")\n",
    "                course['date'] = header_titles[idx]\n",
    "                course['href'] = a_elm.get_attribute('href')\n",
    "                span_1 = a_elm.find_element_by_xpath(\"./span[1]\")\n",
    "                course['name'] = span_1.get_attribute('innerText')\n",
    "                span_2 = a_elm.find_element_by_xpath(\"./span[2]\")\n",
    "                tmp_str = span_2.get_attribute('innerText')\n",
    "\n",
    "                teacher_str = tmp_str.split('\\n')[0]\n",
    "                time_str = tmp_str.split('\\n')[1]\n",
    "\n",
    "                course['teacher'] = teacher_norm(teacher_str)\n",
    "                course['time'] = time_str\n",
    "\n",
    "                course_schedule.append(course)\n",
    "                \n",
    "                title_name = get_course_schedule_table_title()\n",
    "                filename = os.path.join(class_schedules_folder_path, title_name + '.json')\n",
    "                with open(filename, 'w', encoding='utf-8') as fp:\n",
    "                    json.dump(course_schedule, fp)"
   ]
  },
  {
   "cell_type": "code",
   "execution_count": 11,
   "metadata": {},
   "outputs": [],
   "source": [
    "# title_name = get_course_schedule_table_title()\n",
    "# filename = os.path.join('./', title_name + '.json')"
   ]
  },
  {
   "cell_type": "code",
   "execution_count": 12,
   "metadata": {},
   "outputs": [],
   "source": [
    "# with open(filename, 'w', encoding='utf-8') as fp:\n",
    "#     json.dump(course_schedule, fp)"
   ]
  },
  {
   "cell_type": "code",
   "execution_count": 13,
   "metadata": {},
   "outputs": [
    {
     "output_type": "stream",
     "name": "stdout",
     "text": [
      "DN 9 PT Room\n",
      "敦南 4 教室\n",
      "敦南 6 教室\n",
      "敦南 7 教室\n",
      "敦南 9 教室\n"
     ]
    }
   ],
   "source": [
    "os.makedirs(class_schedules_folder_path, exist_ok=True)\n",
    "\n",
    "# scrape_a_week()\n",
    "# time.sleep(1)\n",
    "# click_next_week_btn()\n",
    "time.sleep(3)\n",
    "scrape_a_week()"
   ]
  },
  {
   "cell_type": "code",
   "execution_count": 14,
   "metadata": {},
   "outputs": [
    {
     "output_type": "stream",
     "name": "stdout",
     "text": [
      "Time elapsed: 196.95\n"
     ]
    }
   ],
   "source": [
    "print(\"Time elapsed: {:.2f}\".format(time.time() - start))"
   ]
  },
  {
   "cell_type": "code",
   "execution_count": 15,
   "metadata": {},
   "outputs": [],
   "source": [
    "driver.quit()"
   ]
  },
  {
   "cell_type": "code",
   "execution_count": 16,
   "metadata": {},
   "outputs": [],
   "source": [
    "# def click_book_this_class_now():\n",
    "#     btn = driver.find_element_by_xpath(\"//a[contains(text(), 'BOOK THIS CLASS NOW')]\")\n",
    "#     btn_click()"
   ]
  }
 ],
 "metadata": {
  "kernelspec": {
   "name": "python3",
   "display_name": "Python 3.7.1 64-bit ('web': conda)"
  },
  "language_info": {
   "codemirror_mode": {
    "name": "ipython",
    "version": 3
   },
   "file_extension": ".py",
   "mimetype": "text/x-python",
   "name": "python",
   "nbconvert_exporter": "python",
   "pygments_lexer": "ipython3",
   "version": "3.7.1"
  },
  "interpreter": {
   "hash": "effc0f63518a5c1560b10975c45bbcceadc577c0194c86222f219f68a81157cb"
  }
 },
 "nbformat": 4,
 "nbformat_minor": 4
}