{
 "cells": [
  {
   "cell_type": "code",
   "execution_count": 1,
   "metadata": {},
   "outputs": [],
   "source": [
    "from lxml import html\n",
    "\n",
    "from bs4 import BeautifulSoup\n",
    "import time\n",
    "import datetime\n",
    "\n",
    "import threading\n",
    "from apscheduler.schedulers.background import BackgroundScheduler\n",
    "\n",
    "from selenium import webdriver\n",
    "from webdriver_manager.chrome import ChromeDriverManager\n",
    "\n",
    "from selenium.webdriver.common.by import By\n",
    "from selenium.webdriver.common.keys import Keys\n",
    "\n",
    "from selenium.webdriver.chrome.options import Options\n",
    "\n",
    "from selenium.webdriver.common.action_chains import ActionChains\n",
    "from selenium.webdriver.support.ui import WebDriverWait\n",
    "from selenium.webdriver.support import expected_conditions as ec\n",
    "\n",
    "import json\n",
    "import os\n",
    "\n",
    "from apscheduler.schedulers.background import BackgroundScheduler\n",
    "import sys"
   ]
  },
  {
   "cell_type": "code",
   "execution_count": 2,
   "metadata": {},
   "outputs": [],
   "source": [
    "#launch url\n",
    "base_url = \"https://www.trueclassbooking.com.tw/member/search-class.aspx\""
   ]
  },
  {
   "cell_type": "code",
   "execution_count": 3,
   "metadata": {},
   "outputs": [],
   "source": [
    "class_schedules_folder_path = './class_schedules'"
   ]
  },
  {
   "cell_type": "code",
   "execution_count": 4,
   "metadata": {},
   "outputs": [],
   "source": [
    "course_schedule = []"
   ]
  },
  {
   "cell_type": "code",
   "execution_count": 5,
   "metadata": {},
   "outputs": [
    {
     "name": "stderr",
     "output_type": "stream",
     "text": [
      "[WDM] - Current google-chrome version is 114.0.5735\n",
      "[WDM] - Get LATEST driver version for 114.0.5735\n",
      "[WDM] - Driver [/Users/huohsien/.wdm/drivers/chromedriver/mac64/114.0.5735.90/chromedriver] found in cache\n"
     ]
    },
    {
     "name": "stdout",
     "output_type": "stream",
     "text": [
      " \n"
     ]
    }
   ],
   "source": [
    "#setup option for chrome profile\n",
    "chrome_options = Options()\n",
    "# chrome_options.add_argument(\"user-data-dir=/Users/huohsien/Library/Application Support/Google/Chrome/Default/\")\n",
    "\n",
    "#start web driver\n",
    "driver = webdriver.Chrome(ChromeDriverManager().install(), options=chrome_options)\n",
    "driver.implicitly_wait(30)\n",
    "\n",
    "wait = WebDriverWait(driver, 30)"
   ]
  },
  {
   "cell_type": "code",
   "execution_count": 6,
   "metadata": {},
   "outputs": [],
   "source": [
    "from selenium.common.exceptions import NoSuchElementException        \n",
    "def check_exists_by_xpath(xpath):\n",
    "    try:\n",
    "        driver.find_element_by_xpath(xpath)\n",
    "    except NoSuchElementException:\n",
    "        return False\n",
    "    return True\n",
    "\n",
    "def sync_get_element_by_xpath(xpath):\n",
    "    wait.until(ec.visibility_of_element_located((By.XPATH, xpath)))\n",
    "    return driver.find_element_by_xpath(xpath)"
   ]
  },
  {
   "cell_type": "code",
   "execution_count": 7,
   "metadata": {},
   "outputs": [],
   "source": [
    "def send_keys(elm, string):\n",
    "    for c in string:\n",
    "        elm.send_keys(c)"
   ]
  },
  {
   "cell_type": "code",
   "execution_count": 8,
   "metadata": {},
   "outputs": [],
   "source": [
    "def sign_in():\n",
    "    username = driver.find_element_by_id('ctl00_cphContents_txtUsername')\n",
    "    password = driver.find_element_by_id('ctl00_cphContents_txtPassword')\n",
    "#     username.send_keys(\"DN20092360\")\n",
    "#     password.send_keys(\"jj1216\")\n",
    "    send_keys(username, \"DN20092360\")\n",
    "    send_keys(password, \"jj1216\")\n",
    "    wait.until(ec.visibility_of_element_located((By.CLASS_NAME, \"submit-button\")))\n",
    "    sign_in_btn = driver.find_element_by_class_name(\"submit-button\") \n",
    "    sign_in_btn.click()\n",
    "\n",
    "def click_book_for_class():\n",
    "    click_btn = sync_get_element_by_xpath(\"//a[contains(text(), 'Book for Class')]\")\n",
    "#     print(\"click_btn: \", click_btn)\n",
    "    click_btn.click()\n",
    "\n",
    "def teacher_norm(teacher):\n",
    "    if not teacher.startswith('-'):\n",
    "        return teacher\n",
    "    tmp = teacher.split('\\n')[0].split('- ')[1]\n",
    "    return tmp[:-2]\n",
    "\n",
    "def search_courses_by_date(date_str, courses=course_schedule):\n",
    "    results = []\n",
    "    \n",
    "    date_str = date_str.strip()\n",
    "    \n",
    "    for item in courses:\n",
    "        if date_str in item['date']:\n",
    "            results.append(item)\n",
    "    return results\n",
    "\n",
    "def search_courses_by_teacher(teacher_str, courses=course_schedule):\n",
    "    results = []\n",
    "    \n",
    "    teacher_str = teacher_str.strip()\n",
    "    \n",
    "    for item in courses:\n",
    "        if teacher_str in item['teacher']:\n",
    "            results.append(item)\n",
    "    return results\n",
    "def search_courses_by_name(name_str, courses=course_schedule):\n",
    "    results = []\n",
    "    \n",
    "    name_str = name_str.strip()\n",
    "    \n",
    "    for item in courses:\n",
    "        if name_str in item['name']:\n",
    "            results.append(item)\n",
    "    return results\n",
    "\n",
    "def search_courses_by_time(time_str, courses=course_schedule):\n",
    "    results = []\n",
    "    \n",
    "    time_str = time_str.strip()\n",
    "    \n",
    "    for item in courses:\n",
    "        if time_str in item['time']:\n",
    "            results.append(item)\n",
    "    return results\n",
    "def get_course_schedule_table_title():\n",
    "    return driver.find_element_by_xpath(\"//div[@class='tbl-header']\").get_attribute('innerText')\n",
    "\n",
    "def click_yedn_btn():\n",
    "    print(\"1\")\n",
    "    sync_get_element_by_xpath(\"//[contains(text(), 'Yoga Edition 敦南會館')]\")\n",
    "    print(\"2\")\n",
    "\n",
    "\n",
    "#             btns = driver.find_elements_by_class_name(\"//[contains(text(), 'Book for Class')]\")\n",
    "            \n",
    "def click_next_week_btn():\n",
    "\n",
    "    if check_exists_by_xpath(\"//*[@class='btnCircleRight']\"):\n",
    "\n",
    "        btns = driver.find_elements_by_class_name('btnCircleRight')\n",
    "    else:\n",
    "        return False\n",
    "    \n",
    "    if btns is not None:\n",
    "        \n",
    "        if not len(btns) == 1:\n",
    "            return False\n",
    "        \n",
    "        btns[0].click()\n",
    "        \n",
    "        return True\n",
    "    else:\n",
    "        return False\n",
    "\n",
    "def click_previous_week_btn():\n",
    "    if check_exists_by_xpath(\"//*[@class='btnCircleLeft']\"):\n",
    "        btns = driver.find_elements_by_class_name('btnCircleLeft')\n",
    "    else:\n",
    "        print(\"@2\")\n",
    "        return False\n",
    "    \n",
    "    if btns is not None:\n",
    "        \n",
    "        assert len(btns) == 1\n",
    "        \n",
    "        btns[0].click()\n",
    "        return True\n",
    "    else:\n",
    "        return False"
   ]
  },
  {
   "cell_type": "code",
   "execution_count": 9,
   "metadata": {},
   "outputs": [],
   "source": [
    "driver.get(base_url)\n",
    "sign_in()\n",
    "start = time.time()\n",
    "click_book_for_class()"
   ]
  },
  {
   "cell_type": "code",
   "execution_count": 10,
   "metadata": {},
   "outputs": [],
   "source": [
    "def scrape_a_week():\n",
    "    course_schedule = []\n",
    "    header_titles = []\n",
    "\n",
    "    room_td_elms = driver.find_elements_by_xpath(\"//div[@class='studios']/table/tbody/tr[1]/td\")\n",
    "\n",
    "    for room_idx in range(len(room_td_elms)):\n",
    "        room_select_btn = room_td_elms[room_idx].find_element_by_xpath(\"./span\")\n",
    "        room_label = room_select_btn.find_element_by_xpath(\"./label\")\n",
    "        room_name = room_label.get_attribute('innerText')\n",
    "\n",
    "#         time.sleep(1)\n",
    "        if room_name == 'DN 6 PT Room':\n",
    "            continue\n",
    "        \n",
    "        print(room_name)\n",
    "        room_select_btn.click()\n",
    "        room_td_elms = driver.find_elements_by_xpath(\"//div[@class='studios']/table/tbody/tr[1]/td\")\n",
    "\n",
    "        th_elms = driver.find_elements_by_xpath(\"//div[@class='tbl-container']/table/tbody/tr[1]/th\")\n",
    "        for idx, th_elm in enumerate(th_elms):\n",
    "            header_title = th_elm.get_attribute(\"innerText\")\n",
    "            header_titles.append(header_title)\n",
    "\n",
    "        td_elms = driver.find_elements_by_xpath(\"//div[@class='tbl-container']/table/tbody/tr[2]/td\")\n",
    "\n",
    "        title_name = get_course_schedule_table_title()\n",
    "        filename = os.path.join(class_schedules_folder_path, title_name + '.json')\n",
    "#         print(\"filename={}\".format(filename))\n",
    "            \n",
    "        for idx, td_elm in enumerate(td_elms):\n",
    "            #skip useless Column data of 'TIME'\n",
    "            if idx == 0:\n",
    "                continue\n",
    "            a_elms = td_elm.find_elements_by_xpath(\"./a\")\n",
    "\n",
    "            for a_elm in a_elms:\n",
    "                course = {}\n",
    "                course['room'] = room_td_elms[room_idx].get_attribute(\"innerText\")\n",
    "                course['date'] = header_titles[idx]\n",
    "                course['href'] = a_elm.get_attribute('href')\n",
    "                span_1 = a_elm.find_element_by_xpath(\"./span[1]\")\n",
    "                course['name'] = span_1.get_attribute('innerText')\n",
    "                span_2 = a_elm.find_element_by_xpath(\"./span[2]\")\n",
    "                tmp_str = span_2.get_attribute('innerText')\n",
    "\n",
    "                teacher_str = tmp_str.split('\\n')[0]\n",
    "                time_str = tmp_str.split('\\n')[1]\n",
    "\n",
    "                course['teacher'] = teacher_norm(teacher_str)\n",
    "                course['time'] = time_str\n",
    "\n",
    "                course_schedule.append(course)\n",
    "            with open(filename, 'w', encoding='utf-8') as fp:\n",
    "                json.dump(course_schedule, fp)\n",
    "    return filename, course_schedule"
   ]
  },
  {
   "cell_type": "code",
   "execution_count": 11,
   "metadata": {},
   "outputs": [],
   "source": [
    "# title_name = get_course_schedule_table_title()\n",
    "# filename = os.path.join('./', title_name + '.json')"
   ]
  },
  {
   "cell_type": "code",
   "execution_count": 12,
   "metadata": {},
   "outputs": [],
   "source": [
    "# with open(filename, 'w', encoding='utf-8') as fp:\n",
    "#     json.dump(course_schedule, fp)"
   ]
  },
  {
   "cell_type": "code",
   "execution_count": 13,
   "metadata": {},
   "outputs": [
    {
     "name": "stdout",
     "output_type": "stream",
     "text": [
      "敦南 4 教室\n",
      "敦南 6 教室\n",
      "敦南 7 教室\n",
      "敦南 9 教室\n"
     ]
    }
   ],
   "source": [
    "os.makedirs(class_schedules_folder_path, exist_ok=True)\n",
    "\n",
    "# scrape_a_week()\n",
    "# time.sleep(1)\n",
    "div = driver.find_element_by_xpath(\"//span[contains(text(), 'YOGA Edition 敦南會館')]/..\")\n",
    "div.click()\n",
    "\n",
    "time.sleep(3)\n",
    "schedule_filename = \"\"\n",
    "schedule_filename, course_schedule = scrape_a_week()"
   ]
  },
  {
   "cell_type": "code",
   "execution_count": 14,
   "metadata": {},
   "outputs": [],
   "source": [
    "%run common_part_setting.ipynb\n",
    "# format string from website to datetime data structure\n",
    "#\n",
    "[start_date, end_date] = os.path.basename(schedule_filename).split('.')[0].split(' - ')\n",
    "start_date = start_date + ' ' + end_date.split(' ')[2]\n",
    "start_datetime = datetime.datetime.strptime(start_date, \"%d %B %Y\")\n",
    "end_datetime = datetime.datetime.strptime(end_date, \"%d %B %Y\")\n",
    "\n",
    "class_datetime = datetime.datetime(YEAR, MONTH, DAY, 22, 0, 0, 0)+ datetime.timedelta(days=4)"
   ]
  },
  {
   "cell_type": "code",
   "execution_count": 15,
   "metadata": {},
   "outputs": [
    {
     "name": "stdout",
     "output_type": "stream",
     "text": [
      "敦南 4 教室\n",
      "敦南 6 教室\n",
      "敦南 7 教室\n",
      "敦南 9 教室\n"
     ]
    },
    {
     "data": {
      "text/plain": [
       "'./class_schedules/10 July - 16 July 2023.json'"
      ]
     },
     "execution_count": 15,
     "metadata": {},
     "output_type": "execute_result"
    }
   ],
   "source": [
    "\n",
    "if not start_datetime<=class_datetime<=end_datetime:\n",
    "    click_next_week_btn()\n",
    "    schedule_filename, course_schedule = scrape_a_week()\n",
    "    \n",
    "schedule_filename"
   ]
  },
  {
   "cell_type": "code",
   "execution_count": 17,
   "metadata": {},
   "outputs": [
    {
     "name": "stdout",
     "output_type": "stream",
     "text": [
      "Time elapsed: 13.63\n"
     ]
    }
   ],
   "source": [
    "print(\"Time elapsed: {:.2f}\".format(time.time() - start))"
   ]
  },
  {
   "cell_type": "code",
   "execution_count": 18,
   "metadata": {},
   "outputs": [],
   "source": [
    "driver.quit()"
   ]
  },
  {
   "cell_type": "code",
   "execution_count": 19,
   "metadata": {},
   "outputs": [],
   "source": [
    "# def click_book_this_class_now():\n",
    "#     btn = driver.find_element_by_xpath(\"//a[contains(text(), 'BOOK THIS CLASS NOW')]\")\n",
    "#     btn_click()"
   ]
  }
 ],
 "metadata": {
  "kernelspec": {
   "display_name": "Python 3",
   "language": "python",
   "name": "python3"
  },
  "language_info": {
   "codemirror_mode": {
    "name": "ipython",
    "version": 3
   },
   "file_extension": ".py",
   "mimetype": "text/x-python",
   "name": "python",
   "nbconvert_exporter": "python",
   "pygments_lexer": "ipython3",
   "version": "3.7.1"
  },
  "vscode": {
   "interpreter": {
    "hash": "fea948f2d4b619093c5b972193819fd164e1a217b4ec05fef672a4011b8be1b1"
   }
  }
 },
 "nbformat": 4,
 "nbformat_minor": 4
}
