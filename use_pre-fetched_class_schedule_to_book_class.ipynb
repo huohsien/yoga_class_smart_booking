{
 "cells": [
  {
   "cell_type": "code",
   "execution_count": 1,
   "metadata": {},
   "outputs": [],
   "source": [
    "from lxml import html\n",
    "\n",
    "# from bs4 import BeautifulSoup\n",
    "from bs4 import BeautifulSoup, NavigableString\n",
    "import time\n",
    "import datetime\n",
    "import threading\n",
    "from apscheduler.schedulers.background import BackgroundScheduler\n",
    "\n",
    "from selenium import webdriver\n",
    "from webdriver_manager.chrome import ChromeDriverManager\n",
    "\n",
    "from selenium.webdriver.common.by import By\n",
    "from selenium.webdriver.common.keys import Keys\n",
    "\n",
    "from selenium.webdriver.chrome.options import Options\n",
    "\n",
    "from selenium.webdriver.common.action_chains import ActionChains\n",
    "from selenium.webdriver.support.ui import WebDriverWait\n",
    "from selenium.webdriver.support import expected_conditions as ec\n",
    "\n",
    "import json\n",
    "import os\n",
    "import sys\n",
    "\n",
    "import helper\n",
    "\n",
    "from selenium.common.exceptions import TimeoutException"
   ]
  },
  {
   "cell_type": "code",
   "execution_count": 2,
   "metadata": {},
   "outputs": [],
   "source": [
    "course_schedule = []\n",
    "NO_WINDOW = False\n",
    "IMPLICIT_WAIT_TIME = 20\n",
    "EXPLICIT_WAIT_TIME = 20\n",
    "WINDOWS_GRID_X = 3\n",
    "WINDOWS_GRID_Y = 2\n",
    "SCREEN_WIDTH = 2560\n",
    "SCREEN_HEIGHT = 1440\n",
    "# SCREEN_WIDTH = 2048\n",
    "# SCREEN_HEIGHT = 1152\n",
    "# SCREEN_WIDTH = 1920\n",
    "# SCREEN_HEIGHT = 1200\n",
    "# SCREEN_WIDTH = 3200\n",
    "# SCREEN_HEIGHT = 1800\n",
    "WINDOW_WIDTH = SCREEN_WIDTH / WINDOWS_GRID_X\n",
    "WINDOW_HEIGHT = SCREEN_HEIGHT / WINDOWS_GRID_Y"
   ]
  },
  {
   "cell_type": "code",
   "execution_count": 3,
   "metadata": {},
   "outputs": [],
   "source": [
    "DELAY_TIME_BOOKING = 0.45"
   ]
  },
  {
   "cell_type": "code",
   "execution_count": 4,
   "metadata": {},
   "outputs": [],
   "source": [
    "def create_new_driver():\n",
    "    #setup option for chrome profile\n",
    "    # chrome_options = Options()\n",
    "    # chrome_options.add_argument(\"user-data-dir=/Users/huohsien/Library/Application Support/Google/Chrome/Default/\")\n",
    "    options = Options()\n",
    "    \n",
    "    if NO_WINDOW:\n",
    "        options = Options()\n",
    "        options.add_argument('--headless')\n",
    "        options.add_argument('--no-sandbox')\n",
    "        options.add_argument('--disable-gpu')\n",
    "\n",
    "    #start web driver\n",
    "    driver = webdriver.Chrome(ChromeDriverManager().install(), options=options)\n",
    "    driver.implicitly_wait(IMPLICIT_WAIT_TIME)\n",
    "\n",
    "    wait = WebDriverWait(driver, EXPLICIT_WAIT_TIME)\n",
    "    return driver, wait"
   ]
  },
  {
   "cell_type": "code",
   "execution_count": 5,
   "metadata": {},
   "outputs": [],
   "source": [
    "def send_keys(elm, string):\n",
    "    for c in string:\n",
    "        elm.send_keys(c)"
   ]
  },
  {
   "cell_type": "code",
   "execution_count": 6,
   "metadata": {},
   "outputs": [],
   "source": [
    "def sync_get_element_by_xpath(driver, xpath):\n",
    "    wait = WebDriverWait(driver, 15)\n",
    "    try:\n",
    "        wait.until(ec.visibility_of_element_located((By.XPATH, xpath)))\n",
    "    except TimeoutException:\n",
    "#         print(\"Get element from xpath:{} Timeout\".format(xpath))\n",
    "        return None\n",
    "    return driver.find_element_by_xpath(xpath)\n"
   ]
  },
  {
   "cell_type": "code",
   "execution_count": 7,
   "metadata": {},
   "outputs": [],
   "source": [
    "def sign_in(driver, wait):\n",
    "    \n",
    "    \n",
    "    username = driver.find_element_by_id('ctl00_cphContents_txtUsername')\n",
    "    password = driver.find_element_by_id('ctl00_cphContents_txtPassword')\n",
    "    username.send_keys(\"DN20092360\")\n",
    "    password.send_keys(\"jj1216\")\n",
    "#     send_keys(username, \"DN20092360\")\n",
    "#     send_keys(password, \"jj1216\")\n",
    "\n",
    "    wait.until(ec.element_to_be_clickable((By.CLASS_NAME, \"submit-button\")))\n",
    "#     wait.until(ec.presence_of_element_located((By.XPATH, \"//div[@class='submit-button']/input\")))\n",
    "\n",
    "    sign_in_btn = driver.find_element_by_class_name(\"submit-button\") \n",
    "    sign_in_btn.click()      \n",
    "        \n",
    "\n",
    "def log_out(driver, wait):\n",
    "    click_btn = helper.sync_get_element_by_xpath(driver, \"//a[contains(text(), 'Logout')]\")\n",
    "#     print(\"click_btn: \", click_btn)\n",
    "    if click_btn:\n",
    "        click_btn.click()\n",
    "    \n",
    "def click_book_for_class(driver, wait):\n",
    "    click_btn = helper.sync_get_element_by_xpath(driver, \"//a[contains(text(), 'Book for Class')]\")\n",
    "#     print(\"click_btn: \", click_btn)\n",
    "    if click_btn:\n",
    "        click_btn.click()\n",
    "\n",
    "def click_book_this_class_now(driver, wait):\n",
    "    click_btn = sync_get_element_by_xpath(driver, \"//a[contains(text(), 'BOOK THIS CLASS NOW')]\")\n",
    "#     print(\"click_btn: \", click_btn)\n",
    "    if click_btn:\n",
    "        click_btn.click()\n",
    "        return True\n",
    "    else:\n",
    "        return False"
   ]
  },
  {
   "cell_type": "code",
   "execution_count": 8,
   "metadata": {},
   "outputs": [],
   "source": [
    "#launch url\n",
    "base_url = \"https://www.trueclassbooking.com.tw/member/search-class.aspx\""
   ]
  },
  {
   "cell_type": "code",
   "execution_count": 9,
   "metadata": {},
   "outputs": [],
   "source": [
    "with open(r'./class_schedules/22 November - 28 November 2021.json', \"r\") as read_file:\n",
    "    course_schedule = json.load(read_file)"
   ]
  },
  {
   "cell_type": "markdown",
   "metadata": {},
   "source": [
    "### Place Test Code Block for Debugging here. The block is \"stored\" at the end of the notebook. Then commnet out the Production Code Block "
   ]
  },
  {
   "cell_type": "code",
   "execution_count": 10,
   "metadata": {},
   "outputs": [],
   "source": [
    "# ...."
   ]
  },
  {
   "cell_type": "markdown",
   "metadata": {},
   "source": [
    "### Production Code Block"
   ]
  },
  {
   "cell_type": "code",
   "execution_count": 11,
   "metadata": {},
   "outputs": [
    {
     "name": "stdout",
     "output_type": "stream",
     "text": [
      "-----------------------\n",
      "Date: 23 Nov Tue\n",
      "-----------------------\n",
      "\n",
      "Name: Vinyasa Yoga 流暢瑜珈\n",
      "Teacher: Una\n",
      "Time: 07:15 - 08:15 PM\n",
      "\n",
      "Name: Gentle Yoga 和緩瑜珈\n",
      "Teacher: Una\n",
      "Time: 04:00 - 05:00 PM\n",
      "\n",
      "Name: Vinyasa Intro 流暢瑜珈入門\n",
      "Teacher: Una\n",
      "Time: 06:00 - 07:00 PM\n",
      "\n",
      "Name: Warm Stretch 溫和伸展\n",
      "Teacher: Mei Wang\n",
      "Time: 12:15 - 01:15 PM\n",
      "\n",
      "Name: Vinyasa Intro 流暢瑜珈入門\n",
      "Teacher: Mei Wang\n",
      "Time: 02:00 - 03:00 PM\n",
      "-----------------------\n"
     ]
    }
   ],
   "source": [
    "YEAR = 2021\n",
    "MONTH = 11\n",
    "Day = 20\n",
    "\n",
    "TIME_INTERVAL_SIGNIN_BOOKING = 600 #10 minutes\n",
    "\n",
    "book_datetime = datetime.datetime(YEAR, MONTH, Day, 22, 0, 0)\n",
    "\n",
    "temp = []\n",
    "\n",
    "##---------------------------------------------------\n",
    "##\n",
    "\n",
    "# # Monday\n",
    "# #\n",
    "\n",
    "# # c = helper.search_courses_by_date('15', course_schedule)\n",
    "# # c = helper.search_courses_by_name('核', c)\n",
    "# # c = helper.search_courses_by_teacher('吳', c)\n",
    "# # # c = helper.search_courses_by_time('PM', c)\n",
    "# # temp.extend(c)\n",
    "\n",
    "# c = helper.search_courses_by_date('22', course_schedule)\n",
    "# c = helper.search_courses_by_name('壁', c)\n",
    "# c = helper.search_courses_by_teacher('Yvette', c)\n",
    "# # c = helper.search_courses_by_time('PM', c)\n",
    "# temp.extend(c)\n",
    "\n",
    "# c = helper.search_courses_by_date('22', course_schedule)\n",
    "# # c = helper.search_courses_by_name('Ash', c)\n",
    "# c = helper.search_courses_by_teacher('Ethan', c)\n",
    "# # c = helper.search_courses_by_time('PM', c)\n",
    "# temp.extend(c)\n",
    "\n",
    "# c = helper.search_courses_by_date('22', course_schedule)\n",
    "# c = helper.search_courses_by_name('Vin', c)\n",
    "# c = helper.search_courses_by_teacher('Una', c)\n",
    "# # c = helper.search_courses_by_time('PM', c)\n",
    "# temp.extend(c)\n",
    "\n",
    "# c = helper.search_courses_by_date('22', course_schedule)\n",
    "# c = helper.search_courses_by_name('Tone', c)\n",
    "# c = helper.search_courses_by_teacher('Una', c)\n",
    "# # c = helper.search_courses_by_time('PM', c)\n",
    "# temp.extend(c)\n",
    "\n",
    "# c = helper.search_courses_by_date('22', course_schedule)\n",
    "# c = helper.search_courses_by_name('Hatha', c)\n",
    "# c = helper.search_courses_by_teacher('Una', c)\n",
    "# # c = helper.search_courses_by_time('PM', c)\n",
    "# temp.extend(c)\n",
    "# #\n",
    "\n",
    "# # Tuesday\n",
    "# #\n",
    "\n",
    "# c = helper.search_courses_by_date('23', course_schedule)\n",
    "# # c = helper.search_courses_by_name('', c)\n",
    "# c = helper.search_courses_by_teacher('Una', c)\n",
    "# c = helper.search_courses_by_time('PM', c)\n",
    "# temp.extend(c)\n",
    "\n",
    "# c = helper.search_courses_by_date('23', course_schedule)\n",
    "# c = helper.search_courses_by_name('Warm', c)\n",
    "# c = helper.search_courses_by_teacher('Mei', c)\n",
    "# # c = helper.search_courses_by_time('PM', c)\n",
    "# temp.extend(c)\n",
    "\n",
    "# c = helper.search_courses_by_date('23', course_schedule)\n",
    "# c = helper.search_courses_by_name('Vinyasa', c)\n",
    "# c = helper.search_courses_by_teacher('Mei', c)\n",
    "# # c = helper.search_courses_by_time('PM', c)\n",
    "# temp.extend(c)\n",
    "# #\n",
    "\n",
    "# Wednesday \n",
    "#\n",
    "\n",
    "# c = helper.search_courses_by_date('17', course_schedule)\n",
    "# c = helper.search_courses_by_name('Warm', c)\n",
    "# # c = helper.search_courses_by_teacher('Yvette', c)\n",
    "# c = helper.search_courses_by_time('PM', c)\n",
    "# temp.extend(c)\n",
    "\n",
    "c = helper.search_courses_by_date('24', course_schedule)\n",
    "c = helper.search_courses_by_name('Aer', c)\n",
    "c = helper.search_courses_by_teacher('Marcus', c)\n",
    "c = helper.search_courses_by_time('PM', c)\n",
    "temp.extend(c)\n",
    "\n",
    "# c = helper.search_courses_by_date('3', course_schedule)\n",
    "# # c = helper.search_courses_by_name('Hot', c)\n",
    "# c = helper.search_courses_by_teacher('Car', c)\n",
    "# c = helper.search_courses_by_time('PM', c)\n",
    "# temp.extend(c)\n",
    "\n",
    "# c = helper.search_courses_by_date('19', course_schedule)\n",
    "# # c = helper.search_courses_by_name('', c)\n",
    "# c = helper.search_courses_by_teacher('Joe', c)\n",
    "# c = helper.search_courses_by_time('PM', c)\n",
    "# temp.extend(c)\n",
    "\n",
    "# c = helper.search_courses_by_date('19', course_schedule)\n",
    "# c = helper.search_courses_by_name('Hot', c)\n",
    "# c = helper.search_courses_by_teacher('Andy', c)\n",
    "# c = helper.search_courses_by_time('PM', c)\n",
    "# temp.extend(c)\n",
    "#\n",
    "\n",
    "\n",
    "# # Thursday\n",
    "# #\n",
    "# c = helper.search_courses_by_date('18', course_schedule)\n",
    "# # c = helper.search_courses_by_name('Vin', c)\n",
    "# c = helper.search_courses_by_teacher('Mei', c)\n",
    "# # c = helper.search_courses_by_time('PM', c)\n",
    "# temp.extend(c)\n",
    "\n",
    "\n",
    "# c = helper.search_courses_by_date('18', course_schedule)\n",
    "# # c = helper.search_courses_by_name('Hatha', c)\n",
    "# c = helper.search_courses_by_teacher('Ethan', c)\n",
    "# # c = helper.search_courses_by_time('PM', c)\n",
    "# temp.extend(c)\n",
    "\n",
    "# c = helper.search_courses_by_date('18', course_schedule)\n",
    "# # c = helper.search_courses_by_name('Warm', c)\n",
    "# c = helper.search_courses_by_teacher('Una', c)\n",
    "# # c = helper.search_courses_by_time('PM', c)\n",
    "# temp.extend(c)\n",
    "# #\n",
    "\n",
    "# # Friday\n",
    "# #\n",
    "\n",
    "# c = helper.search_courses_by_date('19', course_schedule)\n",
    "# c = helper.search_courses_by_name('', c)\n",
    "# c = helper.search_courses_by_teacher('Una', c)\n",
    "# c = helper.search_courses_by_time('PM', c)\n",
    "# temp.extend(c)\n",
    "\n",
    "# c = helper.search_courses_by_date('19', course_schedule)\n",
    "# # c = helper.search_courses_by_name('Yin', c)\n",
    "# c = helper.search_courses_by_teacher('Pri', c)\n",
    "# c = helper.search_courses_by_time('PM', c)\n",
    "# temp.extend(c)\n",
    "# #\n",
    "\n",
    "# # Saturday\n",
    "# #\n",
    "\n",
    "# # c = helper.search_courses_by_date('13', course_schedule)\n",
    "# # # c = helper.search_courses_by_name('', c)\n",
    "# # c = helper.search_courses_by_teacher('Pearl', c)\n",
    "# # # c = helper.search_courses_by_time('PM', c)\n",
    "# # temp.extend(c)\n",
    "\n",
    "\n",
    "# c = helper.search_courses_by_date('20', course_schedule)\n",
    "# # c = helper.search_courses_by_name('', c)\n",
    "# c = helper.search_courses_by_teacher('Jae', c)\n",
    "# # c = helper.search_courses_by_time('PM', c)\n",
    "# temp.extend(c)\n",
    "# #\n",
    "\n",
    "# # Sunday\n",
    "# #\n",
    "# # c = helper.search_courses_by_date('14', course_schedule)\n",
    "# # c = helper.search_courses_by_name('Gen', c)\n",
    "# # c = helper.search_courses_by_teacher('Una', c)\n",
    "# # # c = helper.search_courses_by_time('PM', c)\n",
    "# # temp.extend(c)\n",
    "\n",
    "# # c = helper.search_courses_by_date('14', course_schedule)\n",
    "# # c = helper.search_courses_by_name('Vin', c)\n",
    "# # c = helper.search_courses_by_teacher('Una', c)\n",
    "# # # c = helper.search_courses_by_time('PM', c)\n",
    "# # temp.extend(c)\n",
    "\n",
    "# # c = helper.search_courses_by_date('14', course_schedule)\n",
    "# # c = helper.search_courses_by_name('Chair', c)\n",
    "# # c = helper.search_courses_by_teacher('Una', c)\n",
    "# # # c = helper.search_courses_by_time('PM', c)\n",
    "# # temp.extend(c)\n",
    "\n",
    "# c = helper.search_courses_by_date('21', course_schedule)\n",
    "# # c = helper.search_courses_by_name('Vin', c)\n",
    "# c = helper.search_courses_by_teacher('YaYa', c)\n",
    "# c = helper.search_courses_by_time('PM', c)\n",
    "# temp.extend(c)\n",
    "\n",
    "# # c = helper.search_courses_by_date('07', course_schedule)\n",
    "# # c = helper.search_courses_by_name('Yin', c)\n",
    "# # c = helper.search_courses_by_teacher('YaYa', c)\n",
    "# # c = helper.search_courses_by_time('PM', c)\n",
    "# # temp.extend(c)\n",
    "# #\n",
    "\n",
    "##---------------------------------------------------\n",
    "\n",
    "courses_to_be_booked = temp\n",
    "\n",
    "##---------------------------------------------------\n",
    "##\n",
    "\n",
    "# courses_to_be_booked = []\n",
    "# courses_to_be_booked.append(temp[3])\n",
    "# courses_to_be_booked.append(temp[0])\n",
    "# courses_to_be_booked.append(temp[1])   \n",
    "# courses_to_be_booked.append(temp[2])\n",
    "\n",
    "##\n",
    "##---------------------------------------------------\n",
    "\n",
    "##---------------------------------------------------\n",
    "##\n",
    "\n",
    "# courses_to_be_booked = []\n",
    "\n",
    "# course = {}\n",
    "# course['href'] = 'https://www.trueclassbooking.com.tw/member/popup/class-info.aspx?tcl_id=747149'\n",
    "# course['name'] = '艾楊格 壁繩'\n",
    "# course['teacher'] = 'Yvette'\n",
    "# course['date'] = '19 Oct Mon'\n",
    "# course['time'] = '07:15 - 08:45 PM'\n",
    "# courses_to_be_booked.append(course)\n",
    "\n",
    "##\n",
    "##---------------------------------------------------\n",
    "\n",
    "helper.list_courses_to_be_booked(courses_to_be_booked)\n",
    "\n",
    "# Set Sign In time 10 minutes before the open for booking time\n",
    "signin_datetime = book_datetime - datetime.timedelta(seconds=TIME_INTERVAL_SIGNIN_BOOKING)"
   ]
  },
  {
   "cell_type": "markdown",
   "metadata": {},
   "source": []
  },
  {
   "cell_type": "code",
   "execution_count": 12,
   "metadata": {},
   "outputs": [],
   "source": [
    "book_datetime = book_datetime + datetime.timedelta(seconds=DELAY_TIME_BOOKING)"
   ]
  },
  {
   "cell_type": "code",
   "execution_count": 13,
   "metadata": {},
   "outputs": [],
   "source": [
    "def scheduled_sign_in(driver, wait):\n",
    "#     print(\"scheduled_sign_in({},{})\".format(driver, wait))\n",
    "    driver.get(base_url)\n",
    "    sign_in(driver, wait)"
   ]
  },
  {
   "cell_type": "code",
   "execution_count": 14,
   "metadata": {},
   "outputs": [],
   "source": [
    "reserve_class_log_dicts = []\n",
    "\n",
    "def reserve_class(driver, wait, course_to_be_booked):\n",
    "    \n",
    "    print(\"reserve_class: ({})\\n\".format(course_to_be_booked['time']))\n",
    "    \n",
    "    book_url = course_to_be_booked['href']\n",
    "    class_name = course_to_be_booked['name']\n",
    "    \n",
    "    reserve_class_log_dict = {}\n",
    "    \n",
    "    reserve_class_log_dict['name'] = class_name\n",
    "    \n",
    "    now1 = datetime.datetime.now()\n",
    "    driver.get(book_url)\n",
    "    now2 = datetime.datetime.now()\n",
    "\n",
    "    now3 = datetime.datetime.now()\n",
    "    now4 = datetime.datetime.now()\n",
    "    if click_book_this_class_now(driver, wait):\n",
    "        now4 = datetime.datetime.now()\n",
    "    else:\n",
    "        now4 = datetime.datetime.now()\n",
    "\n",
    "    reserve_class_log_dict['datetime1'] = now1\n",
    "    reserve_class_log_dict['datetime2'] = now2\n",
    "    reserve_class_log_dict['datetime3'] = now3\n",
    "    reserve_class_log_dict['datetime4'] = now4\n",
    "    \n",
    "    reserve_class_log_dicts.append(reserve_class_log_dict)\n",
    "    "
   ]
  },
  {
   "cell_type": "code",
   "execution_count": 15,
   "metadata": {},
   "outputs": [],
   "source": [
    "def show_all_booking_result(reserve_class_log_dicts):\n",
    "    \n",
    "    print(\"Scheduling Logs:\")\n",
    "    \n",
    "    for reserve_class_log_dict in reserve_class_log_dicts:\n",
    "\n",
    "        print(\"Class: \", reserve_class_log_dict['name'])\n",
    "        print(\"-----------------------------------------\\n\")\n",
    "        print(\"\\t** Begin: Go to the class page at: {}\\n\".format(reserve_class_log_dict['datetime1']))\n",
    "        print(\"\\t** End: Go to the class page at: {}\\n\".format(reserve_class_log_dict['datetime2']))\n",
    "\n",
    "        print(\"\\t**Begin: Click 'BOOK THIS CLASS NOW' button at: {}\\n\".format(reserve_class_log_dict['datetime3']))\n",
    "        print(\"\\t**End: Click 'BOOK THIS CLASS NOW' button at: {}\\n\".format(reserve_class_log_dict['datetime4']))\n",
    "        print(\"-----------------------------------------\\n\")"
   ]
  },
  {
   "cell_type": "code",
   "execution_count": 16,
   "metadata": {},
   "outputs": [
    {
     "name": "stderr",
     "output_type": "stream",
     "text": [
      "[WDM] - Current google-chrome version is 95.0.4638\n",
      "[WDM] - Get LATEST driver version for 95.0.4638\n"
     ]
    },
    {
     "name": "stdout",
     "output_type": "stream",
     "text": [
      " \n"
     ]
    },
    {
     "name": "stderr",
     "output_type": "stream",
     "text": [
      "[WDM] - Get LATEST driver version for 95.0.4638\n",
      "[WDM] - Trying to download new driver from http://chromedriver.storage.googleapis.com/95.0.4638.69/chromedriver_mac64.zip\n",
      "[WDM] - Driver has been saved in cache [/Users/huohsien/.wdm/drivers/chromedriver/mac64/95.0.4638.69]\n",
      "[WDM] - Current google-chrome version is 95.0.4638\n",
      "[WDM] - Get LATEST driver version for 95.0.4638\n"
     ]
    },
    {
     "name": "stdout",
     "output_type": "stream",
     "text": [
      "idx:  0 scheduled signin datetime:  2021-11-19 21:50:01\n",
      "idx:  0 scheduled book datetime:  2021-11-19 22:00:00.450000\n",
      " \n"
     ]
    },
    {
     "name": "stderr",
     "output_type": "stream",
     "text": [
      "[WDM] - Driver [/Users/huohsien/.wdm/drivers/chromedriver/mac64/95.0.4638.69/chromedriver] found in cache\n",
      "[WDM] - Current google-chrome version is 95.0.4638\n",
      "[WDM] - Get LATEST driver version for 95.0.4638\n"
     ]
    },
    {
     "name": "stdout",
     "output_type": "stream",
     "text": [
      "idx:  1 scheduled signin datetime:  2021-11-19 21:50:02\n",
      "idx:  1 scheduled book datetime:  2021-11-19 22:00:00.450000\n",
      " \n"
     ]
    },
    {
     "name": "stderr",
     "output_type": "stream",
     "text": [
      "[WDM] - Driver [/Users/huohsien/.wdm/drivers/chromedriver/mac64/95.0.4638.69/chromedriver] found in cache\n",
      "[WDM] - Current google-chrome version is 95.0.4638\n",
      "[WDM] - Get LATEST driver version for 95.0.4638\n"
     ]
    },
    {
     "name": "stdout",
     "output_type": "stream",
     "text": [
      "idx:  2 scheduled signin datetime:  2021-11-19 21:50:03\n",
      "idx:  2 scheduled book datetime:  2021-11-19 22:00:00.450000\n",
      " \n"
     ]
    },
    {
     "name": "stderr",
     "output_type": "stream",
     "text": [
      "[WDM] - Driver [/Users/huohsien/.wdm/drivers/chromedriver/mac64/95.0.4638.69/chromedriver] found in cache\n",
      "[WDM] - Current google-chrome version is 95.0.4638\n",
      "[WDM] - Get LATEST driver version for 95.0.4638\n"
     ]
    },
    {
     "name": "stdout",
     "output_type": "stream",
     "text": [
      "idx:  3 scheduled signin datetime:  2021-11-19 21:50:04\n",
      "idx:  3 scheduled book datetime:  2021-11-19 22:00:00.450000\n",
      " \n"
     ]
    },
    {
     "name": "stderr",
     "output_type": "stream",
     "text": [
      "[WDM] - Driver [/Users/huohsien/.wdm/drivers/chromedriver/mac64/95.0.4638.69/chromedriver] found in cache\n"
     ]
    },
    {
     "name": "stdout",
     "output_type": "stream",
     "text": [
      "idx:  4 scheduled signin datetime:  2021-11-19 21:50:05\n",
      "idx:  4 scheduled book datetime:  2021-11-19 22:00:00.450000\n"
     ]
    }
   ],
   "source": [
    "drivers = []\n",
    "waits = []\n",
    "scheduler = BackgroundScheduler()\n",
    "start = time.time()\n",
    "for idx, course_to_be_booked in enumerate(courses_to_be_booked):\n",
    "\n",
    "    driver, wait = create_new_driver()\n",
    "    driver.set_window_position(WINDOW_WIDTH * (idx % 3), WINDOW_HEIGHT * int(idx / 3));\n",
    "    driver.set_window_size(WINDOW_WIDTH, WINDOW_HEIGHT)\n",
    "    signin_datetime_var = signin_datetime + datetime.timedelta(seconds=(idx+1)*1)\n",
    "    print(\"idx: \", idx, \"scheduled signin datetime: \", signin_datetime_var)\n",
    "    print(\"idx: \", idx, \"scheduled book datetime: \", book_datetime)\n",
    "    \n",
    "    scheduler.add_job(scheduled_sign_in, 'date', run_date=signin_datetime_var, args=[driver, wait])\n",
    "    scheduler.add_job(reserve_class, 'date', run_date= book_datetime, args=[driver, wait, course_to_be_booked])\n",
    "    \n",
    "    if idx == len(courses_to_be_booked)-1:\n",
    "        scheduler.add_job(show_all_booking_result, 'date', run_date= book_datetime + datetime.timedelta(seconds=6), args=[reserve_class_log_dicts])\n",
    "\n",
    "# print(\"Time Elapsed: {:.2f}\".format(time.time() - start)) \n",
    "scheduler.start()\n",
    " \n"
   ]
  },
  {
   "cell_type": "code",
   "execution_count": 17,
   "metadata": {},
   "outputs": [
    {
     "name": "stdout",
     "output_type": "stream",
     "text": [
      "Class: Vinyasa Yoga 流暢瑜珈 \n",
      "\turl: https://www.trueclassbooking.com.tw/member/popup/class-info.aspx?tcl_id=1000400\n",
      "\n",
      "Class: Gentle Yoga 和緩瑜珈 \n",
      "\turl: https://www.trueclassbooking.com.tw/member/popup/class-info.aspx?tcl_id=1000364\n",
      "\n",
      "Class: Vinyasa Intro 流暢瑜珈入門 \n",
      "\turl: https://www.trueclassbooking.com.tw/member/popup/class-info.aspx?tcl_id=1000365\n",
      "\n",
      "Class: Warm Stretch 溫和伸展 \n",
      "\turl: https://www.trueclassbooking.com.tw/member/popup/class-info.aspx?tcl_id=1000362\n",
      "\n",
      "Class: Vinyasa Intro 流暢瑜珈入門 \n",
      "\turl: https://www.trueclassbooking.com.tw/member/popup/class-info.aspx?tcl_id=1000363\n",
      "\n"
     ]
    }
   ],
   "source": [
    "###### print(\"https://www.trueclassbooking.com.tw/member/login.aspx\\n\")\n",
    "for idx, course_to_be_booked in enumerate(courses_to_be_booked):\n",
    "    print(\"Class: {} \\n\\turl: {}\\n\".format(course_to_be_booked['name'], course_to_be_booked['href']))"
   ]
  },
  {
   "cell_type": "markdown",
   "metadata": {},
   "source": [
    "### Test Code Block for Debugging"
   ]
  },
  {
   "cell_type": "code",
   "execution_count": 18,
   "metadata": {},
   "outputs": [
    {
     "name": "stdout",
     "output_type": "stream",
     "text": [
      "reserve_class: (02:00 - 03:00 PM)\n",
      "reserve_class: (07:15 - 08:15 PM)\n",
      "reserve_class: (06:00 - 07:00 PM)\n",
      "\n",
      "\n",
      "\n",
      "reserve_class: (04:00 - 05:00 PM)\n",
      "reserve_class: (12:15 - 01:15 PM)\n",
      "\n",
      "\n",
      "Scheduling Logs:\n"
     ]
    }
   ],
   "source": [
    "#### NUM_CLASSES = 1\n",
    "# DELAY_BETWEEN_CLASSSES = 3\n",
    "# BASE_DELAY = 5\n",
    "# TEST_SIGNIN_SECONDS_DELAY_FROM_NOW = BASE_DELAY\n",
    "# TEST_BOOK_CLASSES_SECONDS_DELAY_FROM_NOW =  (NUM_CLASSES-1) * DELAY_BETWEEN_CLASSSES + BASE_DELAY*2\n",
    "\n",
    "# signin_datetime = datetime.datetime.now() + datetime.timedelta(seconds=TEST_SIGNIN_SECONDS_DELAY_FROM_NOW)\n",
    "# t = datetime.datetime.now()\n",
    "# future_now = datetime.datetime(t.year, t.month, t.day, t.hour, t.minute + 1, 0)\n",
    "# book_datetime = future_now + datetime.timedelta(seconds=TEST_BOOK_CLASSES_SECONDS_DELAY_FROM_NOW)\n",
    "\n",
    "# print(\"Now: {}\".format(datetime.datetime.now()))\n",
    "# print(\"book_datetime: {}\".format(book_datetime))\n",
    "# courses_to_be_booked = []\n",
    "\n",
    "# c = helper.search_courses_by_date('27', course_schedule)\n",
    "# c = helper.search_courses_by_name('Mysore', c)\n",
    "# # c = helper.search_courses_by_time('AM', c)\n",
    "\n",
    "\n",
    "# courses_to_be_booked.extend(c)\n",
    "\n",
    "# helper.list_courses_to_be_booked(courses_to_be_booked)"
   ]
  }
 ],
 "metadata": {
  "interpreter": {
   "hash": "fea948f2d4b619093c5b972193819fd164e1a217b4ec05fef672a4011b8be1b1"
  },
  "kernelspec": {
   "display_name": "Python 3.7.1 64-bit ('web': conda)",
   "name": "python3"
  },
  "language_info": {
   "codemirror_mode": {
    "name": "ipython",
    "version": 3
   },
   "file_extension": ".py",
   "mimetype": "text/x-python",
   "name": "python",
   "nbconvert_exporter": "python",
   "pygments_lexer": "ipython3",
   "version": "3.7.1"
  }
 },
 "nbformat": 4,
 "nbformat_minor": 4
}
