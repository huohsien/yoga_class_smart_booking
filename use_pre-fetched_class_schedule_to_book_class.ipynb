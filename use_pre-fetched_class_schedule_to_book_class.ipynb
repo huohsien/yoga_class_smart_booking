{
 "cells": [
  {
   "cell_type": "code",
   "execution_count": 1,
   "metadata": {},
   "outputs": [],
   "source": [
    "from lxml import html\n",
    "\n",
    "# from bs4 import BeautifulSoup\n",
    "from bs4 import BeautifulSoup, NavigableString\n",
    "import time\n",
    "import datetime\n",
    "import threading\n",
    "from apscheduler.schedulers.background import BackgroundScheduler\n",
    "\n",
    "from selenium import webdriver\n",
    "from webdriver_manager.chrome import ChromeDriverManager\n",
    "\n",
    "from selenium.webdriver.common.by import By\n",
    "from selenium.webdriver.common.keys import Keys\n",
    "\n",
    "from selenium.webdriver.chrome.options import Options\n",
    "\n",
    "from selenium.webdriver.common.action_chains import ActionChains\n",
    "from selenium.webdriver.support.ui import WebDriverWait\n",
    "from selenium.webdriver.support import expected_conditions as ec\n",
    "\n",
    "import json\n",
    "import os\n",
    "import sys\n",
    "\n",
    "import helper"
   ]
  },
  {
   "cell_type": "code",
   "execution_count": 2,
   "metadata": {},
   "outputs": [],
   "source": [
    "course_schedule = []\n",
    "NO_WINDOW = False\n",
    "IMPLICIT_WAIT_TIME = 20\n",
    "EXPLICIT_WAIT_TIME = 20\n",
    "WINDOW_WIDTH = 720\n",
    "WINDOW_HEIGHT = 920"
   ]
  },
  {
   "cell_type": "code",
   "execution_count": 3,
   "metadata": {},
   "outputs": [],
   "source": [
    "# def sync_get_element_by_xpath(xpath):\n",
    "#     wait.until(ec.visibility_of_element_located((By.XPATH, xpath)))\n",
    "#     return driver.find_element_by_xpath(xpath)"
   ]
  },
  {
   "cell_type": "code",
   "execution_count": 4,
   "metadata": {},
   "outputs": [],
   "source": [
    "def create_new_driver():\n",
    "    #setup option for chrome profile\n",
    "    # chrome_options = Options()\n",
    "    # chrome_options.add_argument(\"user-data-dir=/Users/huohsien/Library/Application Support/Google/Chrome/Default/\")\n",
    "    options = Options()\n",
    "    \n",
    "    if NO_WINDOW:\n",
    "        options = Options()\n",
    "        options.add_argument('--headless')\n",
    "        options.add_argument('--no-sandbox')\n",
    "        options.add_argument('--disable-gpu')\n",
    "\n",
    "    #start web driver\n",
    "    driver = webdriver.Chrome(ChromeDriverManager().install(), options=options)\n",
    "    driver.implicitly_wait(IMPLICIT_WAIT_TIME)\n",
    "\n",
    "    wait = WebDriverWait(driver, EXPLICIT_WAIT_TIME)\n",
    "    return driver, wait"
   ]
  },
  {
   "cell_type": "code",
   "execution_count": 5,
   "metadata": {},
   "outputs": [],
   "source": [
    "def sign_in(driver, wait):\n",
    "    \n",
    "    \n",
    "    username = driver.find_element_by_id('ctl00_cphContents_txtUsername')\n",
    "    password = driver.find_element_by_id('ctl00_cphContents_txtPassword')\n",
    "    username.send_keys(\"DN20092360\")\n",
    "    password.send_keys(\"jj1216\")\n",
    "\n",
    "    wait.until(ec.visibility_of_element_located((By.CLASS_NAME, \"submit-button\")))\n",
    "    \n",
    "    sign_in_btn = driver.find_element_by_class_name(\"submit-button\") \n",
    "    sign_in_btn.click()      \n",
    "        \n",
    "\n",
    "def log_out(driver, wait):\n",
    "    click_btn = helper.sync_get_element_by_xpath(driver, \"//a[contains(text(), 'Logout')]\")\n",
    "#     print(\"click_btn: \", click_btn)\n",
    "    if click_btn:\n",
    "        click_btn.click()\n",
    "    \n",
    "def click_book_for_class(driver, wait):\n",
    "    click_btn = helper.sync_get_element_by_xpath(driver, \"//a[contains(text(), 'Book for Class')]\")\n",
    "#     print(\"click_btn: \", click_btn)\n",
    "    if click_btn:\n",
    "        click_btn.click()\n",
    "\n",
    "def click_book_this_class_now(driver, wait):\n",
    "    click_btn = helper.sync_get_element_by_xpath(driver, \"//a[contains(text(), 'BOOK THIS CLASS NOW')]\")\n",
    "    click_btn.click()"
   ]
  },
  {
   "cell_type": "code",
   "execution_count": 6,
   "metadata": {},
   "outputs": [],
   "source": [
    "#launch url\n",
    "base_url = \"https://www.trueclassbooking.com.tw/member/search-class.aspx\""
   ]
  },
  {
   "cell_type": "code",
   "execution_count": 7,
   "metadata": {},
   "outputs": [],
   "source": [
    "with open(r'/Users/huohsien/workspace/python/yoga_class_smart_booking/class_schedules/21 September - 27 September 2020.json', \"r\") as read_file:\n",
    "    course_schedule = json.load(read_file)"
   ]
  },
  {
   "cell_type": "code",
   "execution_count": 8,
   "metadata": {},
   "outputs": [],
   "source": [
    "# course_schedule"
   ]
  },
  {
   "cell_type": "code",
   "execution_count": 9,
   "metadata": {},
   "outputs": [],
   "source": [
    "# book_datetime = datetime.datetime.now() + datetime.timedelta(seconds=10)\n",
    "\n",
    "# courses_to_be_booked = []\n",
    "\n",
    "# c = helper.search_courses_by_date('17', course_schedule)\n",
    "# # c = helper.search_courses_by_name('Vinyasa Yoga', c)\n",
    "# c = helper.search_courses_by_teacher('Mei', c)\n",
    "\n",
    "# courses_to_be_booked.extend(c)\n",
    "\n",
    "# helper.list_courses_to_be_booked(courses_to_be_booked)"
   ]
  },
  {
   "cell_type": "code",
   "execution_count": 10,
   "metadata": {},
   "outputs": [
    {
     "name": "stdout",
     "output_type": "stream",
     "text": [
      "Date: 27 Sep Sun\n",
      "-----------------------\n",
      "\n",
      "Name: Universal Yoga 1 寰宇瑜珈 1\n",
      "Teacher: YaYa\n",
      "Time: 02:00 - 03:30 PM\n",
      "\n",
      "\n",
      "Name: Yin Yoga 陰瑜珈\n",
      "Teacher: YaYa\n",
      "Time: 03:45 - 04:45 PM\n",
      "\n",
      "\n"
     ]
    }
   ],
   "source": [
    "book_datetime = datetime.datetime(2020, 9, 23, 22, 0, 0)\n",
    "courses_to_be_booked = []\n",
    "temp = []\n",
    "\n",
    "c = helper.search_courses_by_date('27', course_schedule)\n",
    "# c = helper.search_courses_by_name('', c)\n",
    "c = helper.search_courses_by_teacher('YaYa', c)\n",
    "c = helper.search_courses_by_time('PM', c)\n",
    "# c = helper.search_courses_by_name('Hatha', c)\n",
    "# courses_to_be_booked.extend(c)\n",
    "\n",
    "temp.extend(c)\n",
    "courses_to_be_booked.append(temp[1])\n",
    "courses_to_be_booked.append(temp[2])\n",
    "    \n",
    "helper.list_courses_to_be_booked(courses_to_be_booked)\n"
   ]
  },
  {
   "cell_type": "code",
   "execution_count": 11,
   "metadata": {},
   "outputs": [],
   "source": [
    "signin_datetime = book_datetime - datetime.timedelta(seconds=600)"
   ]
  },
  {
   "cell_type": "code",
   "execution_count": 12,
   "metadata": {},
   "outputs": [],
   "source": [
    "# signin_datetime = book_datetime - datetime.timedelta(seconds=6)"
   ]
  },
  {
   "cell_type": "code",
   "execution_count": 13,
   "metadata": {},
   "outputs": [],
   "source": [
    "def scheduled_sign_in(driver, wait):\n",
    "#     print(\"scheduled_sign_in({},{})\".format(driver, wait))\n",
    "    driver.get(base_url)\n",
    "    sign_in(driver, wait)\n",
    "\n",
    "    \n",
    "def reserve_class(driver, wait, course_to_be_booked):\n",
    "    print(\"reserve_class({},{},{})\".format(driver, wait, course_to_be_booked['time']))\n",
    "    book_url = course_to_be_booked['href']\n",
    "    driver.get(book_url)\n",
    "    click_book_this_class_now(driver, wait)"
   ]
  },
  {
   "cell_type": "code",
   "execution_count": 14,
   "metadata": {},
   "outputs": [
    {
     "name": "stderr",
     "output_type": "stream",
     "text": [
      "[WDM] - Current google-chrome version is 85.0.4183\n",
      "[WDM] - Get LATEST driver version for 85.0.4183\n",
      "[WDM] - Driver [/Users/huohsien/.wdm/drivers/chromedriver/mac64/85.0.4183.87/chromedriver] found in cache\n"
     ]
    },
    {
     "name": "stdout",
     "output_type": "stream",
     "text": [
      " \n"
     ]
    },
    {
     "name": "stderr",
     "output_type": "stream",
     "text": [
      "[WDM] - Current google-chrome version is 85.0.4183\n",
      "[WDM] - Get LATEST driver version for 85.0.4183\n",
      "[WDM] - Driver [/Users/huohsien/.wdm/drivers/chromedriver/mac64/85.0.4183.87/chromedriver] found in cache\n"
     ]
    },
    {
     "name": "stdout",
     "output_type": "stream",
     "text": [
      " \n"
     ]
    }
   ],
   "source": [
    "drivers = []\n",
    "waits = []\n",
    "scheduler = BackgroundScheduler()\n",
    "start = time.time()\n",
    "for idx, course_to_be_booked in enumerate(courses_to_be_booked):\n",
    "\n",
    "    driver, wait = create_new_driver()\n",
    "    driver.set_window_position(WINDOW_WIDTH * idx, 0);\n",
    "    driver.set_window_size(WINDOW_WIDTH, WINDOW_HEIGHT)\n",
    "    signin_datetime = signin_datetime - datetime.timedelta(seconds=(idx+1))\n",
    "#     print(\"driver: \", driver, \" datetime: \", signin_datetime)\n",
    "    scheduler.add_job(scheduled_sign_in, 'date', run_date=signin_datetime, args=[driver, wait])\n",
    "    scheduler.add_job(reserve_class, 'date', run_date= book_datetime, args=[driver, wait, course_to_be_booked])\n",
    "# print(\"Time Elapsed: {:.2f}\".format(time.time() - start)) \n",
    "scheduler.start()\n",
    " \n"
   ]
  }
 ],
 "metadata": {
  "kernelspec": {
   "display_name": "Python 3",
   "language": "python",
   "name": "python3"
  },
  "language_info": {
   "codemirror_mode": {
    "name": "ipython",
    "version": 3
   },
   "file_extension": ".py",
   "mimetype": "text/x-python",
   "name": "python",
   "nbconvert_exporter": "python",
   "pygments_lexer": "ipython3",
   "version": "3.7.1"
  }
 },
 "nbformat": 4,
 "nbformat_minor": 4
}
