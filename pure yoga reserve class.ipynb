{
 "cells": [
  {
   "cell_type": "markdown",
   "metadata": {},
   "source": [
    "# Trial 1"
   ]
  },
  {
   "cell_type": "code",
   "execution_count": null,
   "metadata": {},
   "outputs": [],
   "source": [
    "import requests\n",
    "from lxml import html\n",
    "from urllib.request import urlopen, Request\n",
    "from selenium import webdriver\n",
    "from selenium.webdriver.common.keys import Keys\n",
    "from bs4 import BeautifulSoup\n",
    "import re\n",
    "import pandas as pd\n",
    "import os\n",
    "import time\n",
    "from datetime import datetime\n",
    "import threading\n",
    "from datetime import date\n",
    "from apscheduler.schedulers.background import BackgroundScheduler\n",
    "\n",
    "\n",
    "#launch url\n",
    "url = \"https://pure360.pure-yoga.com/zh-tw/TW?location_id=24\"\n",
    "\n",
    "# create a new Firefox session\n",
    "browser = webdriver.Chrome()\n",
    "browser.implicitly_wait(30)\n",
    "browser.get(url)\n",
    "\n",
    "sign_in_button = browser.find_element_by_id('sign-in-btn')\n",
    "time.sleep(1)\n",
    "sign_in_button.click()\n",
    "time.sleep(2)\n",
    "username = browser.find_element_by_id(\"username\")\n",
    "username.clear()\n",
    "username.send_keys(\"huohsien@gmail.com\")\n",
    "time.sleep(1)\n",
    "password = browser.find_element_by_id(\"password\")\n",
    "password.clear()\n",
    "password.send_keys(\"jj121632\")\n",
    "time.sleep(1)\n",
    "login_button = browser.find_element_by_name('login')\n",
    "login_button.click()\n",
    "time.sleep(1)\n",
    "data_soup = BeautifulSoup(browser.page_source,'lxml')\n",
    "result = data_soup.find_all(attrs={\"data-class-id\": True}, limit = 1)\n",
    "\n",
    "\n",
    "\n",
    "def fun_click_reserve_button():\n",
    "    global browser\n",
    "    reserve_button = browser.find_element_by_xpath(\"//button[@data-class-id='9058']\")\n",
    "    time.sleep(1)\n",
    "    reserve_button.click()\n",
    "    time.sleep(1)\n",
    "    #browser.refresh()\n",
    "    #time.sleep(5)\n",
    "    #fun_click_reserve_button()\n",
    "\n",
    "# Define the function that is to be executed\n",
    "def my_job(text):\n",
    "    print(text)\n",
    "    global browser\n",
    "    browser.quit()\n",
    "\n",
    "# Start the scheduler\n",
    "sched = BackgroundScheduler()\n",
    "job = sched.add_job(my_job, 'date', run_date=datetime(2019, 1, 4, 14, 38, 5), args=['text'])\n",
    "sched.start()\n",
    "\n",
    "\n",
    "\n",
    "\n",
    "    "
   ]
  },
  {
   "cell_type": "markdown",
   "metadata": {},
   "source": [
    "# Trial 2 (better)"
   ]
  },
  {
   "cell_type": "code",
   "execution_count": 34,
   "metadata": {},
   "outputs": [],
   "source": [
    "import requests\n",
    "from lxml import html\n",
    "from urllib.request import urlopen, Request\n",
    "from selenium import webdriver\n",
    "from selenium.webdriver.common.keys import Keys\n",
    "from bs4 import BeautifulSoup\n",
    "import re\n",
    "import pandas as pd\n",
    "import os\n",
    "import time\n",
    "from datetime import datetime\n",
    "import threading\n",
    "from datetime import date\n",
    "from apscheduler.schedulers.background import BackgroundScheduler\n",
    "\n",
    "\n",
    "#launch url\n",
    "url = \"https://pure360.pure-yoga.com/en/TW?location_id=24\"\n",
    "\n",
    "# create a new Firefox session\n",
    "browser = webdriver.Chrome()\n",
    "browser.implicitly_wait(30)\n",
    "browser.get(url)\n",
    "\n",
    "sign_in_button = browser.find_element_by_id('sign-in-btn')\n",
    "time.sleep(1)\n",
    "sign_in_button.click()\n",
    "time.sleep(2)\n",
    "username = browser.find_element_by_id(\"username\")\n",
    "username.clear()\n",
    "username.send_keys(\"huohsien@gmail.com\")\n",
    "time.sleep(1)\n",
    "password = browser.find_element_by_id(\"password\")\n",
    "password.clear()\n",
    "password.send_keys(\"jj121632\")\n",
    "time.sleep(1)\n",
    "login_button = browser.find_element_by_name('login')\n",
    "login_button.click()\n",
    "time.sleep(1)\n",
    "data_soup = BeautifulSoup(browser.page_source,'lxml')"
   ]
  },
  {
   "cell_type": "markdown",
   "metadata": {},
   "source": [
    "### NOT WORKING"
   ]
  },
  {
   "cell_type": "code",
   "execution_count": 21,
   "metadata": {},
   "outputs": [
    {
     "name": "stdout",
     "output_type": "stream",
     "text": [
      "<class 'bs4.element.Tag'>\n"
     ]
    }
   ],
   "source": [
    "tds = data_soup.findAll(\"td\",attrs={\"data-date\":\"Sat Jan 5\",\"data-time\":\"08:30\"})\n",
    "for td in tds:\n",
    "    if td.find('button'):\n",
    "        print(type(button))\n"
   ]
  },
  {
   "cell_type": "markdown",
   "metadata": {},
   "source": [
    "### Try another way"
   ]
  },
  {
   "cell_type": "code",
   "execution_count": null,
   "metadata": {},
   "outputs": [
    {
     "name": "stdout",
     "output_type": "stream",
     "text": [
      "<selenium.webdriver.remote.webelement.WebElement (session=\"4d4b604dff29a973c47a3fc820308b7f\", element=\"0.9801450972208481-6\")>\n"
     ]
    }
   ],
   "source": [
    "td = browser.find_element_by_xpath(\"//td[@data-date='Sat Jan 5'][@data-time='08:30']\")\n",
    "button = td.find_element_by_xpath(\"//button\")\n",
    "print(button)\n",
    "button.click()"
   ]
  },
  {
   "cell_type": "markdown",
   "metadata": {},
   "source": [
    "# scrape without Selenum"
   ]
  },
  {
   "cell_type": "code",
   "execution_count": null,
   "metadata": {},
   "outputs": [],
   "source": [
    "session_requests = requests.session()\n",
    "login_url = \"https://pure360.pure-yoga.com/zh-tw/TW?location_id=24\"\n",
    "result = session_requests.get(login_url)\n",
    "\n",
    "tree = html.fromstring(result.text)\n",
    "authenticity_token = list(set(tree.xpath(\"//meta[@name='csrf-token']/@content\")))[0]\n",
    "\n",
    "payload = {\n",
    "\t\"username\": \"huohsien@gmail.com\", \n",
    "\t\"password\": \"jj121632\"\n",
    "}\n",
    "\n",
    "result = session_requests.post(\n",
    "\tlogin_url, \n",
    "\tdata = payload, \n",
    "\theaders = {\"user-agent\":\"Mozilla/5.0 (Windows NT 6.1; rv:57.0) Gecko/20100101 Firefox/57.0\"}\n",
    ")\n",
    "\n",
    "result"
   ]
  },
  {
   "cell_type": "code",
   "execution_count": null,
   "metadata": {},
   "outputs": [],
   "source": [
    "def scrape(link):\n",
    "    try:\n",
    "        headers = {}\n",
    "        headers['User-Agent'] = \"Mozilla/5.0 (Windows NT 6.1) AppleWebKit/537.36 (KHTML, like Gecko) Chrome/41.0.2228.0 Safari/537.36\"\n",
    "        return str(urlopen(Request(link, headers = headers)).read())\n",
    "    except Exception as e:\n",
    "        print(str(e))"
   ]
  },
  {
   "cell_type": "code",
   "execution_count": null,
   "metadata": {},
   "outputs": [],
   "source": [
    "scrape(\"https://pure360.pure-yoga.com/zh-tw/TW?location_id=24\")"
   ]
  }
 ],
 "metadata": {
  "kernelspec": {
   "display_name": "Python 3",
   "language": "python",
   "name": "python3"
  },
  "language_info": {
   "codemirror_mode": {
    "name": "ipython",
    "version": 3
   },
   "file_extension": ".py",
   "mimetype": "text/x-python",
   "name": "python",
   "nbconvert_exporter": "python",
   "pygments_lexer": "ipython3",
   "version": "3.7.1"
  }
 },
 "nbformat": 4,
 "nbformat_minor": 2
}
