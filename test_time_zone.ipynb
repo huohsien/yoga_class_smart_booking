{
 "cells": [
  {
   "cell_type": "code",
   "execution_count": 1,
   "id": "7c29887b",
   "metadata": {},
   "outputs": [],
   "source": [
    "from lxml import html\n",
    "\n",
    "# from bs4 import BeautifulSoup\n",
    "from bs4 import BeautifulSoup, NavigableString\n",
    "import time\n",
    "import datetime\n",
    "import threading\n",
    "from apscheduler.schedulers.background import BackgroundScheduler\n",
    "\n",
    "from selenium import webdriver\n",
    "from webdriver_manager.chrome import ChromeDriverManager\n",
    "\n",
    "from selenium.webdriver.common.by import By\n",
    "from selenium.webdriver.common.keys import Keys\n",
    "\n",
    "from selenium.webdriver.chrome.options import Options\n",
    "\n",
    "from selenium.webdriver.common.action_chains import ActionChains\n",
    "from selenium.webdriver.support.ui import WebDriverWait\n",
    "from selenium.webdriver.support import expected_conditions as ec\n",
    "\n",
    "import json\n",
    "import os\n",
    "import sys\n",
    "\n",
    "import helper\n",
    "\n",
    "from selenium.common.exceptions import TimeoutException"
   ]
  },
  {
   "cell_type": "code",
   "execution_count": 2,
   "id": "53d23bcc",
   "metadata": {},
   "outputs": [],
   "source": [
    "# year = datetime.datetime.now().year\n",
    "# month = datetime.datetime.now().month\n",
    "# day = datetime.datetime.now().day\n",
    "\n",
    "# book_datetime = datetime.datetime(year, month, day, 22, 0, 0)"
   ]
  },
  {
   "cell_type": "code",
   "execution_count": 3,
   "id": "7d1739cd",
   "metadata": {},
   "outputs": [],
   "source": [
    "def show_current_datetime():\n",
    "\n",
    "    # datetime object containing current date and time\n",
    "    now = datetime.datetime.now()\n",
    "\n",
    "    # dd/mm/YY H:M:S\n",
    "    dt_string = now.strftime(\"%d/%m/%Y %H:%M:%S\")\n",
    "#     print(\"date and time =\", dt_string)\t\n",
    "    return dt_string"
   ]
  },
  {
   "cell_type": "code",
   "execution_count": 4,
   "id": "37b6e914",
   "metadata": {},
   "outputs": [],
   "source": [
    "schedule_datetime =  datetime.datetime.now() + datetime.timedelta(seconds=3)"
   ]
  },
  {
   "cell_type": "code",
   "execution_count": 5,
   "id": "bfd90d0c",
   "metadata": {},
   "outputs": [],
   "source": [
    "def scheduled_task():\n",
    "    print(\"scheduled task executed @ \", show_current_datetime())"
   ]
  },
  {
   "cell_type": "code",
   "execution_count": 6,
   "id": "408aafa7",
   "metadata": {},
   "outputs": [
    {
     "name": "stdout",
     "output_type": "stream",
     "text": [
      "schedule a task @  25/04/2021 19:50:42\n",
      "scheduled task executed @  25/04/2021 19:50:45\n"
     ]
    }
   ],
   "source": [
    "scheduler = BackgroundScheduler()\n",
    "print(\"schedule a task @ \", show_current_datetime())\n",
    "scheduler.add_job(scheduled_task, 'date', run_date=schedule_datetime)\n",
    "scheduler.start()"
   ]
  },
  {
   "cell_type": "code",
   "execution_count": null,
   "id": "f22a03ba",
   "metadata": {},
   "outputs": [],
   "source": []
  }
 ],
 "metadata": {
  "kernelspec": {
   "display_name": "Python 3",
   "language": "python",
   "name": "python3"
  },
  "language_info": {
   "codemirror_mode": {
    "name": "ipython",
    "version": 3
   },
   "file_extension": ".py",
   "mimetype": "text/x-python",
   "name": "python",
   "nbconvert_exporter": "python",
   "pygments_lexer": "ipython3",
   "version": "3.7.10"
  }
 },
 "nbformat": 4,
 "nbformat_minor": 5
}
