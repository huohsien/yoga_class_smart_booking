{
 "cells": [
  {
   "cell_type": "code",
   "execution_count": 1,
   "metadata": {},
   "outputs": [],
   "source": [
    "from lxml import html\n",
    "\n",
    "# from bs4 import BeautifulSoup\n",
    "from bs4 import BeautifulSoup, NavigableString\n",
    "import time\n",
    "import datetime\n",
    "import threading\n",
    "from apscheduler.schedulers.background import BackgroundScheduler\n",
    "\n",
    "from selenium import webdriver\n",
    "from webdriver_manager.chrome import ChromeDriverManager\n",
    "\n",
    "from selenium.webdriver.common.by import By\n",
    "from selenium.webdriver.common.keys import Keys\n",
    "\n",
    "from selenium.webdriver.chrome.options import Options\n",
    "\n",
    "from selenium.webdriver.common.action_chains import ActionChains\n",
    "from selenium.webdriver.support.ui import WebDriverWait\n",
    "from selenium.webdriver.support import expected_conditions as ec\n",
    "\n",
    "import json\n",
    "import os\n",
    "import sys\n",
    "\n",
    "import helper\n",
    "\n",
    "from selenium.common.exceptions import TimeoutException\n",
    "\n",
    "import numpy as np"
   ]
  },
  {
   "cell_type": "markdown",
   "metadata": {},
   "source": [
    " # SETTING"
   ]
  },
  {
   "cell_type": "code",
   "execution_count": 2,
   "metadata": {},
   "outputs": [],
   "source": [
    "NO_WINDOW = False\n",
    "%run common_part_setting.ipynb"
   ]
  },
  {
   "cell_type": "code",
   "execution_count": 3,
   "metadata": {},
   "outputs": [],
   "source": [
    "from tkinter import Y\n",
    "\n",
    "day = DAY + 4\n",
    "\n",
    "if MONTH in [1, 3, 5, 7, 8, 10, 12]:\n",
    "    if day > 31:\n",
    "        day = day % 31\n",
    "elif MONTH in [4, 6, 9, 11]:\n",
    "    if day > 30:\n",
    "        day = day % 30\n",
    "elif MONTH is \"2\":\n",
    "    if YEAR % 4 != 0:\n",
    "        if day > 28:\n",
    "            day = day % 28\n",
    "    else:\n",
    "        if day > 29:\n",
    "            day = day % 29\n",
    "\n",
    "    \n",
    "if day / 10 < 1:\n",
    "    Day_string = \"0{}\".format(day)\n",
    "else:\n",
    "    Day_string = \"{}\".format(day)\n",
    "\n",
    "# print(Day_string)"
   ]
  },
  {
   "cell_type": "code",
   "execution_count": 4,
   "metadata": {},
   "outputs": [],
   "source": [
    "def create_new_driver():\n",
    "    #setup option for chrome profile\n",
    "    # chrome_options = Options()\n",
    "    # chrome_options.add_argument(\"user-data-dir=/Users/huohsien/Library/Application Support/Google/Chrome/Default/\")\n",
    "    options = Options()\n",
    "    \n",
    "    if NO_WINDOW:\n",
    "        options = Options()\n",
    "        options.add_argument('--headless')\n",
    "        options.add_argument('--no-sandbox')\n",
    "        options.add_argument('--disable-gpu')\n",
    "\n",
    "    #start web driver\n",
    "    driver = webdriver.Chrome(ChromeDriverManager().install(), options=options)\n",
    "    driver.implicitly_wait(IMPLICIT_WAIT_TIME)\n",
    "\n",
    "    wait = WebDriverWait(driver, EXPLICIT_WAIT_TIME)\n",
    "    return driver, wait"
   ]
  },
  {
   "cell_type": "code",
   "execution_count": 5,
   "metadata": {},
   "outputs": [],
   "source": [
    "def send_keys(elm, string):\n",
    "    for c in string:\n",
    "        elm.send_keys(c)"
   ]
  },
  {
   "cell_type": "code",
   "execution_count": 6,
   "metadata": {},
   "outputs": [],
   "source": [
    "def sync_get_element_by_xpath(driver, xpath):\n",
    "    wait = WebDriverWait(driver, 15)\n",
    "    try:\n",
    "        wait.until(ec.visibility_of_element_located((By.XPATH, xpath)))\n",
    "    except TimeoutException:\n",
    "#         print(\"Get element from xpath:{} Timeout\".format(xpath))\n",
    "        return None\n",
    "    return driver.find_element_by_xpath(xpath)\n"
   ]
  },
  {
   "cell_type": "code",
   "execution_count": 7,
   "metadata": {},
   "outputs": [],
   "source": [
    "def sign_in(driver, wait):\n",
    "    \n",
    "    \n",
    "    username = driver.find_element_by_id('cphContents_txtUsername')\n",
    "    password = driver.find_element_by_id('cphContents_txtPassword')\n",
    "\n",
    "    username.send_keys(\"DN23035242\")\n",
    "    password.send_keys(\"NTW3BSFH\")\n",
    "\n",
    "    wait.until(ec.element_to_be_clickable((By.CLASS_NAME, \"submit-button\")))\n",
    "#     wait.until(ec.presence_of_element_located((By.XPATH, \"//div[@class='submit-button']/input\")))\n",
    "\n",
    "    sign_in_btn = driver.find_element_by_class_name(\"submit-button\") \n",
    "    sign_in_btn.click()      \n",
    "        \n",
    "\n",
    "def log_out(driver, wait):\n",
    "    click_btn = helper.sync_get_element_by_xpath(driver, \"//a[contains(text(), 'Logout')]\")\n",
    "#     print(\"click_btn: \", click_btn)\n",
    "    if click_btn:\n",
    "        click_btn.click()\n",
    "    \n",
    "def click_book_for_class(driver, wait):\n",
    "    click_btn = helper.sync_get_element_by_xpath(driver, \"//a[contains(text(), 'Book for Class')]\")\n",
    "#     print(\"click_btn: \", click_btn)\n",
    "    if click_btn:\n",
    "        click_btn.click()\n",
    "\n",
    "def click_book_this_class_now(driver, wait):\n",
    "    click_btn = sync_get_element_by_xpath(driver, \"//a[contains(text(), 'BOOK THIS CLASS NOW')]\")\n",
    "#     print(\"click_btn: \", click_btn)\n",
    "    if click_btn:\n",
    "        click_btn.click()\n",
    "        return True\n",
    "    else:\n",
    "        return False"
   ]
  },
  {
   "cell_type": "code",
   "execution_count": 8,
   "metadata": {},
   "outputs": [],
   "source": [
    "def scheduled_sign_in(driver, wait):\n",
    "#     print(\"scheduled_sign_in({},{})\".format(driver, wait))\n",
    "    driver.get(base_url)\n",
    "    sign_in(driver, wait)\n",
    "    \n",
    "def reserve_class(driver, wait, course_to_be_booked):\n",
    "    \n",
    "    print(\"reserve_class: ({})\\n\".format(course_to_be_booked['time']))\n",
    "    \n",
    "    book_url = course_to_be_booked['href']\n",
    "    class_name = course_to_be_booked['name']\n",
    "    \n",
    "    reserve_class_log_dict = {}\n",
    "    \n",
    "    reserve_class_log_dict['name'] = class_name\n",
    "    \n",
    "    now1 = datetime.datetime.now()\n",
    "    driver.get(book_url)\n",
    "    now2 = datetime.datetime.now()\n",
    "\n",
    "    now3 = datetime.datetime.now()\n",
    "    now4 = datetime.datetime.now()\n",
    "    if click_book_this_class_now(driver, wait):\n",
    "        now4 = datetime.datetime.now()\n",
    "    else:\n",
    "        now4 = datetime.datetime.now()\n",
    "\n",
    "    reserve_class_log_dict['datetime1'] = now1\n",
    "    reserve_class_log_dict['datetime2'] = now2\n",
    "    reserve_class_log_dict['datetime3'] = now3\n",
    "    reserve_class_log_dict['datetime4'] = now4\n",
    "    \n",
    "    reserve_class_log_dicts.append(reserve_class_log_dict)\n",
    "    \n",
    "def show_all_booking_result(reserve_class_log_dicts):\n",
    "    \n",
    "    print(\"Scheduling Logs:\")\n",
    "    \n",
    "    for reserve_class_log_dict in reserve_class_log_dicts:\n",
    "\n",
    "        print(\"Class: \", reserve_class_log_dict['name'])\n",
    "        print(\"-----------------------------------------\\n\")\n",
    "        print(\"\\t** Begin: Go to the class page at: {}\\n\".format(reserve_class_log_dict['datetime1']))\n",
    "        print(\"\\t** End: Go to the class page at: {}\\n\".format(reserve_class_log_dict['datetime2']))\n",
    "\n",
    "        print(\"\\t**Begin: Click 'BOOK THIS CLASS NOW' button at: {}\\n\".format(reserve_class_log_dict['datetime3']))\n",
    "        print(\"\\t**End: Click 'BOOK THIS CLASS NOW' button at: {}\\n\".format(reserve_class_log_dict['datetime4']))\n",
    "        print(\"-----------------------------------------\\n\")"
   ]
  },
  {
   "cell_type": "code",
   "execution_count": 9,
   "metadata": {},
   "outputs": [],
   "source": [
    "#launch url\n",
    "# base_url = \"https://www.trueclassbooking.com.tw/member/search-class.aspx\"\n",
    "base_url = \"https://www2.trueclassbooking.com.tw/member/search-class.aspx\""
   ]
  },
  {
   "cell_type": "code",
   "execution_count": 10,
   "metadata": {},
   "outputs": [
    {
     "name": "stderr",
     "output_type": "stream",
     "text": [
      "[WDM] - Current google-chrome version is 114.0.5735\n",
      "[WDM] - Get LATEST driver version for 114.0.5735\n",
      "[WDM] - Driver [/Users/huohsien/.wdm/drivers/chromedriver/mac64/114.0.5735.90/chromedriver] found in cache\n"
     ]
    },
    {
     "name": "stdout",
     "output_type": "stream",
     "text": [
      " \n",
      "敦南 4 教室\n",
      "敦南 6 教室\n",
      "敦南 7 教室\n",
      "敦南 9 教室\n",
      "Time elapsed: 20.59\n"
     ]
    },
    {
     "ename": "FileNotFoundError",
     "evalue": "[Errno 2] No such file or directory: '10 July - 16 July 2023.json'",
     "output_type": "error",
     "traceback": [
      "\u001b[0;31m---------------------------------------------------------------------------\u001b[0m",
      "\u001b[0;31mFileNotFoundError\u001b[0m                         Traceback (most recent call last)",
      "\u001b[0;32m<ipython-input-10-3895d56d08fb>\u001b[0m in \u001b[0;36m<module>\u001b[0;34m\u001b[0m\n\u001b[1;32m      1\u001b[0m \u001b[0mget_ipython\u001b[0m\u001b[0;34m(\u001b[0m\u001b[0;34m)\u001b[0m\u001b[0;34m.\u001b[0m\u001b[0mrun_line_magic\u001b[0m\u001b[0;34m(\u001b[0m\u001b[0;34m'run'\u001b[0m\u001b[0;34m,\u001b[0m \u001b[0;34m'YEDN.ipynb'\u001b[0m\u001b[0;34m)\u001b[0m\u001b[0;34m\u001b[0m\u001b[0;34m\u001b[0m\u001b[0m\n\u001b[0;32m----> 2\u001b[0;31m \u001b[0;32mwith\u001b[0m \u001b[0mopen\u001b[0m\u001b[0;34m(\u001b[0m\u001b[0mschedule_filename\u001b[0m\u001b[0;34m,\u001b[0m \u001b[0;34m\"r\"\u001b[0m\u001b[0;34m)\u001b[0m \u001b[0;32mas\u001b[0m \u001b[0mread_file\u001b[0m\u001b[0;34m:\u001b[0m\u001b[0;34m\u001b[0m\u001b[0;34m\u001b[0m\u001b[0m\n\u001b[0m\u001b[1;32m      3\u001b[0m     \u001b[0mcourse_schedule\u001b[0m \u001b[0;34m=\u001b[0m \u001b[0mjson\u001b[0m\u001b[0;34m.\u001b[0m\u001b[0mload\u001b[0m\u001b[0;34m(\u001b[0m\u001b[0mread_file\u001b[0m\u001b[0;34m)\u001b[0m\u001b[0;34m\u001b[0m\u001b[0;34m\u001b[0m\u001b[0m\n",
      "\u001b[0;31mFileNotFoundError\u001b[0m: [Errno 2] No such file or directory: '10 July - 16 July 2023.json'"
     ]
    }
   ],
   "source": [
    "%run YEDN.ipynb\n",
    "with open(schedule_filename, \"r\") as read_file:\n",
    "    course_schedule = json.load(read_file)"
   ]
  },
  {
   "cell_type": "markdown",
   "metadata": {},
   "source": [
    "### Place Test Code Block for Debugging here. The block is \"stored\" at the end of the notebook. Then commnet out the Production Code Block "
   ]
  },
  {
   "cell_type": "code",
   "execution_count": null,
   "metadata": {},
   "outputs": [],
   "source": [
    "# ...."
   ]
  },
  {
   "cell_type": "markdown",
   "metadata": {},
   "source": [
    "### Production Code Block"
   ]
  },
  {
   "cell_type": "code",
   "execution_count": null,
   "metadata": {},
   "outputs": [],
   "source": [
    "book_datetime = datetime.datetime(YEAR, MONTH, DAY, 22, 0, 0)\n",
    "\n",
    "%run common_part_class.ipynb\n",
    "\n",
    "helper.list_courses_to_be_booked(courses_to_be_booked)\n",
    "\n",
    "# Set Sign In time 10 minutes before the open for booking time\n",
    "signin_datetime = book_datetime - datetime.timedelta(seconds=TIME_INTERVAL_SIGNIN_BOOKING)"
   ]
  },
  {
   "cell_type": "code",
   "execution_count": null,
   "metadata": {},
   "outputs": [],
   "source": [
    "book_datetime = book_datetime + datetime.timedelta(seconds=DELAY_TIME_BOOKING)"
   ]
  },
  {
   "cell_type": "code",
   "execution_count": null,
   "metadata": {},
   "outputs": [],
   "source": [
    "reserve_class_log_dicts = []"
   ]
  },
  {
   "cell_type": "code",
   "execution_count": null,
   "metadata": {},
   "outputs": [],
   "source": [
    "drivers = []\n",
    "waits = []\n",
    "scheduler = BackgroundScheduler()\n",
    "start = time.time()\n",
    "for idx, course_to_be_booked in enumerate(courses_to_be_booked):\n",
    "\n",
    "    driver, wait = create_new_driver()\n",
    "    driver.set_window_position(WINDOW_WIDTH * (idx % WINDOWS_GRID_X), WINDOW_HEIGHT * int(idx / WINDOWS_GRID_X));\n",
    "    driver.set_window_size(WINDOW_WIDTH, WINDOW_HEIGHT)\n",
    "    signin_datetime_var = signin_datetime + datetime.timedelta(seconds=(idx+1)*2.5)\n",
    "    print(\"idx: \", idx, \"scheduled signin datetime: \", signin_datetime_var)\n",
    "    print(\"idx: \", idx, \"scheduled book datetime: \", book_datetime)\n",
    "    \n",
    "    scheduler.add_job(scheduled_sign_in, 'date', run_date=signin_datetime_var, args=[driver, wait])\n",
    "    scheduler.add_job(reserve_class, 'date', run_date= book_datetime, args=[driver, wait, course_to_be_booked])\n",
    "    \n",
    "    if idx == len(courses_to_be_booked)-1:\n",
    "        scheduler.add_job(show_all_booking_result, 'date', run_date= book_datetime + datetime.timedelta(seconds=6), args=[reserve_class_log_dicts])\n",
    "\n",
    "# print(\"Time Elapsed: {:.2f}\".format(time.time() - start)) \n",
    "scheduler.start()"
   ]
  },
  {
   "cell_type": "code",
   "execution_count": null,
   "metadata": {},
   "outputs": [],
   "source": [
    "###### print(\"https://www.trueclassbooking.com.tw/member/login.aspx\\n\")\n",
    "for idx, course_to_be_booked in enumerate(courses_to_be_booked):\n",
    "    print(\"Class: {} \\n\\turl: {}\\n\".format(course_to_be_booked['name'], course_to_be_booked['href']))"
   ]
  },
  {
   "cell_type": "markdown",
   "metadata": {},
   "source": [
    "### Test Code Block for Debugging"
   ]
  },
  {
   "cell_type": "code",
   "execution_count": null,
   "metadata": {},
   "outputs": [],
   "source": [
    "#### NUM_CLASSES = 1\n",
    "# DELAY_BETWEEN_CLASSSES = 3\n",
    "# BASE_DELAY = 5\n",
    "# TEST_SIGNIN_SECONDS_DELAY_FROM_NOW = BASE_DELAY\n",
    "# TEST_BOOK_CLASSES_SECONDS_DELAY_FROM_NOW =  (NUM_CLASSES-1) * DELAY_BETWEEN_CLASSSES + BASE_DELAY*2\n",
    "\n",
    "# signin_datetime = datetime.datetime.now() + datetime.timedelta(seconds=TEST_SIGNIN_SECONDS_DELAY_FROM_NOW)\n",
    "# t = datetime.datetime.now()\n",
    "# future_now = datetime.datetime(t.year, t.month, t.day, t.hour, t.minute + 1, 0)\n",
    "# book_datetime = future_now + datetime.timedelta(seconds=TEST_BOOK_CLASSES_SECONDS_DELAY_FROM_NOW)\n",
    "\n",
    "# print(\"Now: {}\".format(datetime.datetime.now()))\n",
    "# print(\"book_datetime: {}\".format(book_datetime))\n",
    "# courses_to_be_booked = []\n",
    "\n",
    "# c = helper.search_courses_by_date('27', course_schedule)\n",
    "# c = helper.search_courses_by_name('Mysore', c)\n",
    "# # c = helper.search_courses_by_time('AM', c)\n",
    "\n",
    "\n",
    "# courses_to_be_booked.extend(c)\n",
    "\n",
    "# helper.list_courses_to_be_booked(courses_to_be_booked)"
   ]
  }
 ],
 "metadata": {
  "interpreter": {
   "hash": "fea948f2d4b619093c5b972193819fd164e1a217b4ec05fef672a4011b8be1b1"
  },
  "kernelspec": {
   "display_name": "Python 3",
   "language": "python",
   "name": "python3"
  },
  "language_info": {
   "codemirror_mode": {
    "name": "ipython",
    "version": 3
   },
   "file_extension": ".py",
   "mimetype": "text/x-python",
   "name": "python",
   "nbconvert_exporter": "python",
   "pygments_lexer": "ipython3",
   "version": "3.7.1"
  }
 },
 "nbformat": 4,
 "nbformat_minor": 4
}
