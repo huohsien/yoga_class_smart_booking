{
 "cells": [
  {
   "cell_type": "code",
   "execution_count": 1,
   "metadata": {},
   "outputs": [],
   "source": [
    "from lxml import html\n",
    "\n",
    "# from bs4 import BeautifulSoup\n",
    "from bs4 import BeautifulSoup, NavigableString\n",
    "import time\n",
    "import datetime\n",
    "import threading\n",
    "from apscheduler.schedulers.background import BackgroundScheduler\n",
    "\n",
    "from selenium import webdriver\n",
    "from webdriver_manager.chrome import ChromeDriverManager\n",
    "\n",
    "from selenium.webdriver.common.by import By\n",
    "from selenium.webdriver.common.keys import Keys\n",
    "\n",
    "from selenium.webdriver.chrome.options import Options\n",
    "\n",
    "from selenium.webdriver.common.action_chains import ActionChains\n",
    "from selenium.webdriver.support.ui import WebDriverWait\n",
    "from selenium.webdriver.support import expected_conditions as ec\n",
    "\n",
    "import json\n",
    "import os\n",
    "import sys\n",
    "\n",
    "import helper\n",
    "\n",
    "from selenium.common.exceptions import TimeoutException\n",
    "\n",
    "import numpy as np"
   ]
  },
  {
   "cell_type": "markdown",
   "metadata": {},
   "source": [
    " # SETTING"
   ]
  },
  {
   "cell_type": "code",
   "execution_count": 2,
   "metadata": {},
   "outputs": [],
   "source": [
    "NO_WINDOW = True\n",
    "%run common_part_setting.ipynb"
   ]
  },
  {
   "cell_type": "code",
   "execution_count": 3,
   "metadata": {},
   "outputs": [
    {
     "name": "stdout",
     "output_type": "stream",
     "text": [
      "10\n"
     ]
    }
   ],
   "source": [
    "from tkinter import Y\n",
    "\n",
    "day = DAY + 4\n",
    "\n",
    "if MONTH in [1, 3, 5, 7, 8, 10, 12]:\n",
    "    if day > 31:\n",
    "        day = day % 31\n",
    "elif MONTH in [4, 6, 9, 11]:\n",
    "    if day > 30:\n",
    "        day = day % 30\n",
    "elif MONTH is \"2\":\n",
    "    if YEAR % 4 != 0:\n",
    "        if day > 28:\n",
    "            day = day % 28\n",
    "    else:\n",
    "        if day > 29:\n",
    "            day = day % 29\n",
    "\n",
    "    \n",
    "if day / 10 < 1:\n",
    "    Day_string = \"0{}\".format(day)\n",
    "else:\n",
    "    Day_string = \"{}\".format(day)\n",
    "\n",
    "\n",
    "print(Day_string)\n"
   ]
  },
  {
   "cell_type": "code",
   "execution_count": 4,
   "metadata": {},
   "outputs": [],
   "source": [
    "def create_new_driver():\n",
    "    #setup option for chrome profile\n",
    "    # chrome_options = Options()\n",
    "    # chrome_options.add_argument(\"user-data-dir=/Users/huohsien/Library/Application Support/Google/Chrome/Default/\")\n",
    "    options = Options()\n",
    "    \n",
    "    if NO_WINDOW:\n",
    "        options = Options()\n",
    "        options.add_argument('--headless')\n",
    "        options.add_argument('--no-sandbox')\n",
    "        options.add_argument('--disable-gpu')\n",
    "\n",
    "    #start web driver\n",
    "    driver = webdriver.Chrome(ChromeDriverManager().install(), options=options)\n",
    "    driver.implicitly_wait(IMPLICIT_WAIT_TIME)\n",
    "\n",
    "    wait = WebDriverWait(driver, EXPLICIT_WAIT_TIME)\n",
    "    return driver, wait"
   ]
  },
  {
   "cell_type": "code",
   "execution_count": 5,
   "metadata": {},
   "outputs": [],
   "source": [
    "def send_keys(elm, string):\n",
    "    for c in string:\n",
    "        elm.send_keys(c)"
   ]
  },
  {
   "cell_type": "code",
   "execution_count": 6,
   "metadata": {},
   "outputs": [],
   "source": [
    "def sync_get_element_by_xpath(driver, xpath):\n",
    "    wait = WebDriverWait(driver, 15)\n",
    "    try:\n",
    "        wait.until(ec.visibility_of_element_located((By.XPATH, xpath)))\n",
    "    except TimeoutException:\n",
    "#         print(\"Get element from xpath:{} Timeout\".format(xpath))\n",
    "        return None\n",
    "    return driver.find_element_by_xpath(xpath)\n"
   ]
  },
  {
   "cell_type": "code",
   "execution_count": 7,
   "metadata": {},
   "outputs": [],
   "source": [
    "def sign_in(driver, wait):\n",
    "    \n",
    "    \n",
    "    username = driver.find_element_by_id('ctl00_cphContents_txtUsername')\n",
    "    password = driver.find_element_by_id('ctl00_cphContents_txtPassword')\n",
    "\n",
    "    send_keys(username, \"DN20092360\")\n",
    "    send_keys(password, \"jj1216\")\n",
    "#     username.send_keys(\"DN23035242\")\n",
    "#     password.send_keys(\"NTW3BSFH\")\n",
    "\n",
    "    wait.until(ec.element_to_be_clickable((By.CLASS_NAME, \"submit-button\")))\n",
    "#     wait.until(ec.presence_of_element_located((By.XPATH, \"//div[@class='submit-button']/input\")))\n",
    "\n",
    "    sign_in_btn = driver.find_element_by_class_name(\"submit-button\") \n",
    "    sign_in_btn.click()      \n",
    "        \n",
    "\n",
    "def log_out(driver, wait):\n",
    "    click_btn = helper.sync_get_element_by_xpath(driver, \"//a[contains(text(), 'Logout')]\")\n",
    "#     print(\"click_btn: \", click_btn)\n",
    "    if click_btn:\n",
    "        click_btn.click()\n",
    "    \n",
    "def click_book_for_class(driver, wait):\n",
    "    click_btn = helper.sync_get_element_by_xpath(driver, \"//a[contains(text(), 'Book for Class')]\")\n",
    "#     print(\"click_btn: \", click_btn)\n",
    "    if click_btn:\n",
    "        click_btn.click()\n",
    "\n",
    "def click_book_this_class_now(driver, wait):\n",
    "    click_btn = sync_get_element_by_xpath(driver, \"//a[contains(text(), 'BOOK THIS CLASS NOW')]\")\n",
    "#     print(\"click_btn: \", click_btn)\n",
    "    if click_btn:\n",
    "        click_btn.click()\n",
    "        return True\n",
    "    else:\n",
    "        return False"
   ]
  },
  {
   "cell_type": "code",
   "execution_count": 8,
   "metadata": {},
   "outputs": [],
   "source": [
    "#launch url\n",
    "base_url = \"https://www.trueclassbooking.com.tw/member/search-class.aspx\""
   ]
  },
  {
   "cell_type": "code",
   "execution_count": 9,
   "metadata": {},
   "outputs": [
    {
     "name": "stderr",
     "output_type": "stream",
     "text": [
      "[WDM] - Current google-chrome version is 114.0.5735\n",
      "[WDM] - Get LATEST driver version for 114.0.5735\n"
     ]
    },
    {
     "name": "stdout",
     "output_type": "stream",
     "text": [
      " \n"
     ]
    },
    {
     "name": "stderr",
     "output_type": "stream",
     "text": [
      "[WDM] - Driver [/Users/huohsien/.wdm/drivers/chromedriver/mac64/114.0.5735.90/chromedriver] found in cache\n"
     ]
    },
    {
     "name": "stdout",
     "output_type": "stream",
     "text": [
      "敦南 4 教室\n",
      "敦南 6 教室\n",
      "敦南 7 教室\n",
      "敦南 9 教室\n",
      "Time elapsed: 8.51\n"
     ]
    }
   ],
   "source": [
    "%run YEDN.ipynb\n",
    "with open(schedule_filename, \"r\") as read_file:\n",
    "    course_schedule = json.load(read_file)"
   ]
  },
  {
   "cell_type": "markdown",
   "metadata": {},
   "source": [
    "### Place Test Code Block for Debugging here. The block is \"stored\" at the end of the notebook. Then commnet out the Production Code Block "
   ]
  },
  {
   "cell_type": "code",
   "execution_count": 10,
   "metadata": {},
   "outputs": [],
   "source": [
    "# ...."
   ]
  },
  {
   "cell_type": "markdown",
   "metadata": {},
   "source": [
    "### Production Code Block"
   ]
  },
  {
   "cell_type": "code",
   "execution_count": 11,
   "metadata": {},
   "outputs": [],
   "source": [
    "book_datetime = datetime.datetime(YEAR, MONTH, DAY, 22, 0, 0)\n",
    "\n",
    "%run common_part_class.ipynb\n",
    "\n",
    "helper.list_courses_to_be_booked(courses_to_be_booked)\n",
    "\n",
    "# Set Sign In time 10 minutes before the open for booking time\n",
    "signin_datetime = book_datetime - datetime.timedelta(seconds=TIME_INTERVAL_SIGNIN_BOOKING)"
   ]
  },
  {
   "cell_type": "markdown",
   "metadata": {},
   "source": []
  },
  {
   "cell_type": "code",
   "execution_count": 12,
   "metadata": {},
   "outputs": [],
   "source": [
    "book_datetimes = [book_datetime + datetime.timedelta(seconds=DELAY_BOOKING_TIME) for DELAY_BOOKING_TIME in DELAY_BOOKING_TIMES]"
   ]
  },
  {
   "cell_type": "code",
   "execution_count": 13,
   "metadata": {},
   "outputs": [],
   "source": [
    "def scheduled_sign_in(driver, wait):\n",
    "#     print(\"scheduled_sign_in({},{})\".format(driver, wait))\n",
    "    driver.get(base_url)\n",
    "    sign_in(driver, wait)"
   ]
  },
  {
   "cell_type": "code",
   "execution_count": 14,
   "metadata": {},
   "outputs": [],
   "source": [
    "reserve_class_log_dicts = []\n",
    "\n",
    "def reserve_class(driver, wait, course_to_be_booked):\n",
    "    \n",
    "    print(\"reserve_class: ({})\\n\".format(course_to_be_booked['time']))\n",
    "    \n",
    "    book_url = course_to_be_booked['href']\n",
    "    class_name = course_to_be_booked['name']\n",
    "    \n",
    "    reserve_class_log_dict = {}\n",
    "    \n",
    "    reserve_class_log_dict['name'] = class_name\n",
    "    \n",
    "    now1 = datetime.datetime.now()\n",
    "    driver.get(book_url)\n",
    "    now2 = datetime.datetime.now()\n",
    "\n",
    "    now3 = datetime.datetime.now()\n",
    "    now4 = datetime.datetime.now()\n",
    "    if click_book_this_class_now(driver, wait):\n",
    "        now4 = datetime.datetime.now()\n",
    "    else:\n",
    "        now4 = datetime.datetime.now()\n",
    "\n",
    "    reserve_class_log_dict['datetime1'] = now1\n",
    "    reserve_class_log_dict['datetime2'] = now2\n",
    "    reserve_class_log_dict['datetime3'] = now3\n",
    "    reserve_class_log_dict['datetime4'] = now4\n",
    "    \n",
    "    reserve_class_log_dicts.append(reserve_class_log_dict)\n",
    "    "
   ]
  },
  {
   "cell_type": "code",
   "execution_count": 15,
   "metadata": {},
   "outputs": [],
   "source": [
    "def show_all_booking_result(reserve_class_log_dicts):\n",
    "    \n",
    "    print(\"Scheduling Logs:\")\n",
    "    \n",
    "    for reserve_class_log_dict in reserve_class_log_dicts:\n",
    "\n",
    "        print(\"Class: \", reserve_class_log_dict['name'])\n",
    "        print(\"-----------------------------------------\\n\")\n",
    "        print(\"\\t** Begin: Go to the class page at: {}\\n\".format(reserve_class_log_dict['datetime1']))\n",
    "        print(\"\\t** End: Go to the class page at: {}\\n\".format(reserve_class_log_dict['datetime2']))\n",
    "\n",
    "        print(\"\\t**Begin: Click 'BOOK THIS CLASS NOW' button at: {}\\n\".format(reserve_class_log_dict['datetime3']))\n",
    "        print(\"\\t**End: Click 'BOOK THIS CLASS NOW' button at: {}\\n\".format(reserve_class_log_dict['datetime4']))\n",
    "        print(\"-----------------------------------------\\n\")"
   ]
  },
  {
   "cell_type": "code",
   "execution_count": 16,
   "metadata": {},
   "outputs": [],
   "source": [
    "drivers = []\n",
    "waits = []\n",
    "scheduler = BackgroundScheduler()\n",
    "start = time.time()\n",
    "\n",
    "idx_1 = 0\n",
    "\n",
    "for book_datetime in book_datetimes:\n",
    "    \n",
    "    for idx_2,course_to_be_booked in enumerate(courses_to_be_booked):\n",
    "\n",
    "        driver, wait = create_new_driver()\n",
    "        driver.set_window_position(WINDOW_WIDTH * (idx_2 % WINDOWS_GRID_X), WINDOW_HEIGHT * int(idx_2 / WINDOWS_GRID_X));\n",
    "        driver.set_window_size(WINDOW_WIDTH, WINDOW_HEIGHT)\n",
    "        signin_datetime_var = signin_datetime + datetime.timedelta(seconds=idx_1*3)\n",
    "        book_datetime_var = book_datetime + datetime.timedelta(seconds=idx_2*0.01)\n",
    "        print(\"idx: \", idx_1, \"scheduled signin datetime: \", signin_datetime_var)\n",
    "        print(\"idx: \", idx_2, \"scheduled book datetime: \", book_datetime_var)\n",
    "\n",
    "        scheduler.add_job(scheduled_sign_in, 'date', run_date=signin_datetime_var, args=[driver, wait])\n",
    "        scheduler.add_job(reserve_class, 'date', run_date= book_datetime_var, args=[driver, wait, course_to_be_booked])\n",
    "    \n",
    "        idx_1 = idx_1 + 1\n",
    "\n",
    "scheduler.add_job(show_all_booking_result, 'date', run_date= book_datetimes[0] + datetime.timedelta(seconds=10), args=[reserve_class_log_dicts])\n",
    "        \n",
    "# print(\"Time Elapsed: {:.2f}\".format(time.time() - start)) \n",
    "scheduler.start()\n",
    " \n"
   ]
  },
  {
   "cell_type": "code",
   "execution_count": 17,
   "metadata": {},
   "outputs": [],
   "source": [
    "###### print(\"https://www.trueclassbooking.com.tw/member/login.aspx\\n\")\n",
    "for idx, course_to_be_booked in enumerate(courses_to_be_booked):\n",
    "    print(\"Class: {} \\n\\turl: {}\\n\".format(course_to_be_booked['name'], course_to_be_booked['href']))"
   ]
  }
 ],
 "metadata": {
  "interpreter": {
   "hash": "fea948f2d4b619093c5b972193819fd164e1a217b4ec05fef672a4011b8be1b1"
  },
  "kernelspec": {
   "display_name": "Python 3",
   "language": "python",
   "name": "python3"
  },
  "language_info": {
   "codemirror_mode": {
    "name": "ipython",
    "version": 3
   },
   "file_extension": ".py",
   "mimetype": "text/x-python",
   "name": "python",
   "nbconvert_exporter": "python",
   "pygments_lexer": "ipython3",
   "version": "3.7.1"
  }
 },
 "nbformat": 4,
 "nbformat_minor": 4
}
