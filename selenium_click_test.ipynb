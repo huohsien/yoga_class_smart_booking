{
 "cells": [
  {
   "cell_type": "markdown",
   "metadata": {},
   "source": [
    "# You want to make the Python-Selenium clicks faster? Here's a 407.0km/h / 252.9mph CPS falcon for you:\n",
    "\n",
    "https://www.arealme.com/click-speed-test/en/ from https://stackoverflow.com/questions/68936056/how-do-i-make-python-selenium-clicks-faster"
   ]
  },
  {
   "cell_type": "code",
   "execution_count": null,
   "metadata": {},
   "outputs": [],
   "source": [
    "from selenium.webdriver.chrome.options import Options\n",
    "from selenium import webdriver\n",
    "from webdriver_manager.chrome import ChromeDriverManager\n",
    "from selenium.webdriver.support.ui import WebDriverWait\n",
    "from selenium.webdriver.support import expected_conditions as ec\n",
    "from selenium.webdriver.common.by import By"
   ]
  },
  {
   "cell_type": "code",
   "execution_count": null,
   "metadata": {},
   "outputs": [],
   "source": [
    "#setup option for chrome profile\n",
    "chrome_options = Options()\n",
    "chrome_options.add_argument(\"user-data-dir=/Users/huohsien/Library/Application Support/Google/Chrome/Default/\")\n",
    "prefs = {'profile.default_content_setting_values.automatic_downloads': 1}\n",
    "chrome_options.add_experimental_option(\"prefs\", prefs)\n",
    "driver = webdriver.Chrome(options=chrome_options)\n",
    "\n",
    "driver.implicitly_wait(10)\n",
    "\n",
    "driver.get('https://www.arealme.com/click-speed-test/en/')\n",
    "WebDriverWait(driver, 20).until(ec.element_to_be_clickable((By.XPATH, \"//span[text()='Start']\"))).click()\n",
    "click_me = WebDriverWait(driver, 20).until(ec.element_to_be_clickable((By.CSS_SELECTOR, \"button#clickarena>b\")))\n",
    "while True:\n",
    "  try:\n",
    "      click_me.click()\n",
    "      continue\n",
    "  except:\n",
    "      break\n",
    "time.sleep(10) # result calculation\n",
    "driver.save_screenshot(\"falcon.png\")"
   ]
  }
 ],
 "metadata": {
  "kernelspec": {
   "display_name": "web3.8",
   "language": "python",
   "name": "python3"
  },
  "language_info": {
   "codemirror_mode": {
    "name": "ipython",
    "version": 3
   },
   "file_extension": ".py",
   "mimetype": "text/x-python",
   "name": "python",
   "nbconvert_exporter": "python",
   "pygments_lexer": "ipython3",
   "version": "3.8.17"
  },
  "orig_nbformat": 4
 },
 "nbformat": 4,
 "nbformat_minor": 2
}
